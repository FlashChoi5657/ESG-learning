{
  "cells": [
    {
      "cell_type": "markdown",
      "metadata": {
        "id": "view-in-github",
        "colab_type": "text"
      },
      "source": [
        "<a href=\"https://colab.research.google.com/github/FlashChoi5657/iTshirt/blob/main/Class_prep_02_type_list.ipynb\" target=\"_parent\"><img src=\"https://colab.research.google.com/assets/colab-badge.svg\" alt=\"Open In Colab\"/></a>"
      ]
    },
    {
      "cell_type": "markdown",
      "metadata": {
        "id": "IhWbG_KEgySm"
      },
      "source": [
        "### 데이터타입 개념  \n",
        "    1. 숫자 \n",
        "    2. 문자\n",
        "    3. 리스트 []\n",
        "        - 순서가 있고 수정이 가능한 데이터 타입\n",
        "    4. 튜플(tuple) ()\n",
        "        - 순서가 있고 수정이 불가능한 데이터 타입\n",
        "    5. 사전(dict) {}\n",
        "        - 순서가 없고 키:값으로 된 쌍이 요소로 구성된 데이터 타입"
      ]
    },
    {
      "cell_type": "markdown",
      "metadata": {
        "id": "hNANDn51gySp"
      },
      "source": [
        "#### 숫자와 문자"
      ]
    },
    {
      "cell_type": "code",
      "execution_count": 2,
      "metadata": {
        "ExecuteTime": {
          "end_time": "2021-01-13T05:49:28.811808Z",
          "start_time": "2021-01-13T05:49:28.799838Z"
        },
        "id": "9onAuH1fgySq",
        "outputId": "f9681066-a3d5-4cc3-858b-c0e105012f81",
        "colab": {
          "base_uri": "https://localhost:8080/"
        }
      },
      "outputs": [
        {
          "output_type": "stream",
          "name": "stdout",
          "text": [
            "<class 'int'> 726 \n",
            " <class 'str'> birthday\n"
          ]
        }
      ],
      "source": [
        "a = 726\n",
        "b = \"birthday\"\n",
        "print(type(a), a, \"\\n\", type(b), b)"
      ]
    },
    {
      "cell_type": "markdown",
      "metadata": {
        "id": "iCQxUw1tgySs"
      },
      "source": [
        "### list function"
      ]
    },
    {
      "cell_type": "code",
      "execution_count": 10,
      "metadata": {
        "ExecuteTime": {
          "end_time": "2021-01-13T05:50:34.879719Z",
          "start_time": "2021-01-13T05:50:34.868747Z"
        },
        "id": "4Wks7oF6gySs",
        "outputId": "f0d0367a-c427-49bd-d957-7b23bd247526",
        "colab": {
          "base_uri": "https://localhost:8080/"
        }
      },
      "outputs": [
        {
          "output_type": "execute_result",
          "data": {
            "text/plain": [
              "(list, tuple)"
            ]
          },
          "metadata": {},
          "execution_count": 10
        }
      ],
      "source": [
        "ls = [True, 1, 2, \"삼\", [4, \"five\"], 6.0]\n",
        "type(ls), type(ls[4])"
      ]
    },
    {
      "cell_type": "markdown",
      "metadata": {
        "ExecuteTime": {
          "end_time": "2021-01-13T06:09:17.136316Z",
          "start_time": "2021-01-13T06:09:17.120329Z"
        },
        "id": "t8Lh4PadgySt"
      },
      "source": [
        "#### offset index : 순서가 있는 데이터 타입에서는 해당 index를 사용하여 출력가능"
      ]
    },
    {
      "cell_type": "code",
      "execution_count": 6,
      "metadata": {
        "ExecuteTime": {
          "end_time": "2021-01-13T06:09:17.136316Z",
          "start_time": "2021-01-13T06:09:17.120329Z"
        },
        "id": "0RpJ-O1-gySt",
        "outputId": "18f41e26-ea08-455e-c83c-a7a589da3a63",
        "colab": {
          "base_uri": "https://localhost:8080/"
        }
      },
      "outputs": [
        {
          "output_type": "execute_result",
          "data": {
            "text/plain": [
              "('삼', [1, 2, '삼'], [6.0, [4, 'five'], '삼', 2, 1, True])"
            ]
          },
          "metadata": {},
          "execution_count": 6
        }
      ],
      "source": [
        "ls[3], ls[1:4], ls[::-1]"
      ]
    },
    {
      "cell_type": "markdown",
      "metadata": {
        "id": "npr1_1n5gySu"
      },
      "source": [
        "#### 추가\n",
        "    append()"
      ]
    },
    {
      "cell_type": "code",
      "execution_count": 21,
      "metadata": {
        "ExecuteTime": {
          "end_time": "2021-01-13T08:14:37.567747Z",
          "start_time": "2021-01-13T08:14:37.545781Z"
        },
        "id": "adMyI22YgySu",
        "outputId": "1faee7f6-07f1-40fd-e3d0-a2e6c6ef50cb",
        "colab": {
          "base_uri": "https://localhost:8080/"
        }
      },
      "outputs": [
        {
          "output_type": "execute_result",
          "data": {
            "text/plain": [
              "[2, 3, 7, 4, 9, 0]"
            ]
          },
          "metadata": {},
          "execution_count": 21
        }
      ],
      "source": [
        "ls = [2, 3, 7, 4, 9] # list 생성\n",
        "ls.append(0) # 가장 뒤에 추가\n",
        "ls"
      ]
    },
    {
      "cell_type": "markdown",
      "metadata": {
        "id": "FEbBEFvAgySv"
      },
      "source": [
        "#### 정렬\n",
        "    sort()"
      ]
    },
    {
      "cell_type": "code",
      "execution_count": 13,
      "metadata": {
        "ExecuteTime": {
          "end_time": "2021-01-13T06:11:33.179435Z",
          "start_time": "2021-01-13T06:11:33.166469Z"
        },
        "id": "l7uDOSSNgySv",
        "outputId": "e59f76a5-69f1-4658-974e-6091e0dc1b65",
        "colab": {
          "base_uri": "https://localhost:8080/"
        }
      },
      "outputs": [
        {
          "output_type": "stream",
          "name": "stdout",
          "text": [
            "[9, 7, 4, 3, 2, 0]\n",
            "[0, 2, 3, 4, 7, 9]\n"
          ]
        }
      ],
      "source": [
        "ls.sort(reverse=True)\n",
        "print(ls)\n",
        "ls.sort(reverse=False)\n",
        "print(ls)"
      ]
    },
    {
      "cell_type": "markdown",
      "metadata": {
        "id": "z5eAFomHgySw"
      },
      "source": [
        "#### 삭제(뽑기)\n",
        "    pop()\n",
        "        기본값 : 리스트 마지막 항목을 뽑아낸다\n",
        "    list.pop(index)\n",
        "        index를 입력하면 해당 index 순서에 있는 항목을 뽑아낸다\n",
        "        pop으로 뽑힌 데이터는 다른 변수에 저장이 가능\n",
        "        뽑힌 데이터는 list에서 삭제되어 있음"
      ]
    },
    {
      "cell_type": "code",
      "execution_count": 15,
      "metadata": {
        "ExecuteTime": {
          "end_time": "2021-01-13T08:15:56.936153Z",
          "start_time": "2021-01-13T08:15:56.918175Z"
        },
        "id": "rbSL7hLtgySw",
        "outputId": "0d636e2b-7dd3-4851-de85-4241f123a9a6",
        "colab": {
          "base_uri": "https://localhost:8080/"
        }
      },
      "outputs": [
        {
          "output_type": "stream",
          "name": "stdout",
          "text": [
            "[2, 3, 7, 4, 9, 0]\n",
            "0 [2, 3, 7, 4, 9]\n"
          ]
        }
      ],
      "source": [
        "print(ls)\n",
        "print(ls.pop(), ls)"
      ]
    },
    {
      "cell_type": "code",
      "execution_count": 16,
      "metadata": {
        "ExecuteTime": {
          "end_time": "2021-01-13T08:15:59.616085Z",
          "start_time": "2021-01-13T08:15:59.602157Z"
        },
        "id": "Jfr3YYRagySw",
        "outputId": "8a1786fe-0c10-45af-bda9-bf212d1976db",
        "colab": {
          "base_uri": "https://localhost:8080/"
        }
      },
      "outputs": [
        {
          "output_type": "execute_result",
          "data": {
            "text/plain": [
              "(3, [2, 7, 4, 9])"
            ]
          },
          "metadata": {},
          "execution_count": 16
        }
      ],
      "source": [
        "ls.pop(1), ls"
      ]
    },
    {
      "cell_type": "code",
      "execution_count": 20,
      "metadata": {
        "ExecuteTime": {
          "end_time": "2021-01-13T08:16:36.883960Z",
          "start_time": "2021-01-13T08:16:36.871026Z"
        },
        "id": "PF86yLwEgySx",
        "outputId": "313e1fdf-635d-4263-f6f9-ac946f0db797",
        "colab": {
          "base_uri": "https://localhost:8080/"
        }
      },
      "outputs": [
        {
          "output_type": "execute_result",
          "data": {
            "text/plain": [
              "(9, [])"
            ]
          },
          "metadata": {},
          "execution_count": 20
        }
      ],
      "source": [
        "b = ls.pop(0)\n",
        "b, ls"
      ]
    },
    {
      "cell_type": "markdown",
      "metadata": {
        "id": "A34S-eywgySx"
      },
      "source": [
        "#### 뽑아내지 않고 삭제하는 방법\n",
        "    del list[index]"
      ]
    },
    {
      "cell_type": "code",
      "execution_count": 22,
      "metadata": {
        "ExecuteTime": {
          "end_time": "2021-01-13T08:14:56.924417Z",
          "start_time": "2021-01-13T08:14:56.914446Z"
        },
        "id": "-gClgyrjgySx",
        "outputId": "6bc68cde-e710-4109-f1fd-94e1dbb9673b",
        "colab": {
          "base_uri": "https://localhost:8080/"
        }
      },
      "outputs": [
        {
          "output_type": "execute_result",
          "data": {
            "text/plain": [
              "[2, 7, 4, 9, 0]"
            ]
          },
          "metadata": {},
          "execution_count": 22
        }
      ],
      "source": [
        "del ls[1]\n",
        "ls"
      ]
    },
    {
      "cell_type": "markdown",
      "metadata": {
        "id": "NlmsubCvgySx"
      },
      "source": [
        "#### 리스트 타입의 복사\n",
        "    copy()\n",
        "\n",
        "- 얕은 복사(shallow copy) <br/>\n",
        "  메모리 주소만 복사한 것으로 새로운 값을 적용하면 원래 메모리 참조 값을 가져온다.\n",
        "\n",
        "- 깊은 복사(deep copy) <br/>\n",
        "  copy.deepcopy 메소드로 사용 가능하다.\n",
        "  새로운 메모리 값을 사용하므로 다른 주소 값이 할당된다.\n",
        "\n",
        "-얕은 복사와 깊은 복사의 구분은 list, set, dictionary와 같은 가변 객체에 해당하여 적용한다."
      ]
    },
    {
      "cell_type": "code",
      "source": [
        ""
      ],
      "metadata": {
        "id": "RQh7O40ViQdS"
      },
      "execution_count": null,
      "outputs": []
    },
    {
      "cell_type": "code",
      "execution_count": 25,
      "metadata": {
        "ExecuteTime": {
          "end_time": "2021-01-13T06:16:01.315822Z",
          "start_time": "2021-01-13T06:16:01.310840Z"
        },
        "colab": {
          "base_uri": "https://localhost:8080/"
        },
        "id": "3Q0mZgHEgySy",
        "outputId": "602775de-07d3-4bed-e539-24e8ec216998"
      },
      "outputs": [
        {
          "output_type": "execute_result",
          "data": {
            "text/plain": [
              "([1, 2, 5], [1, 2, 5])"
            ]
          },
          "metadata": {},
          "execution_count": 25
        }
      ],
      "source": [
        "ls1 = [1, 2, 3]\n",
        "ls2 = ls1 # ls2는 ls1의 주소값을 복사\n",
        "ls1[2] = 5 # ls1의 값을 변경하면..?\n",
        "ls1, ls2 # 얕은 복사"
      ]
    },
    {
      "cell_type": "code",
      "execution_count": 26,
      "metadata": {
        "ExecuteTime": {
          "end_time": "2021-01-13T06:17:00.223981Z",
          "start_time": "2021-01-13T06:17:00.213980Z"
        },
        "colab": {
          "base_uri": "https://localhost:8080/"
        },
        "id": "LrJQk6yLgySy",
        "outputId": "acf6a921-84d1-4800-cc9c-8391135c16ae"
      },
      "outputs": [
        {
          "output_type": "execute_result",
          "data": {
            "text/plain": [
              "([1, 2, 6], [1, 2, 5])"
            ]
          },
          "metadata": {},
          "execution_count": 26
        }
      ],
      "source": [
        "import copy # copy 라이브러리 호출\n",
        "ls3 = copy.deepcopy(ls1)\n",
        "ls1[2] = 6\n",
        "ls1, ls3"
      ]
    },
    {
      "cell_type": "code",
      "source": [
        ""
      ],
      "metadata": {
        "id": "Q4L7iVBFieS4"
      },
      "execution_count": null,
      "outputs": []
    }
  ],
  "metadata": {
    "hide_input": false,
    "kernelspec": {
      "display_name": "Python 3",
      "language": "python",
      "name": "python3"
    },
    "language_info": {
      "codemirror_mode": {
        "name": "ipython",
        "version": 3
      },
      "file_extension": ".py",
      "mimetype": "text/x-python",
      "name": "python",
      "nbconvert_exporter": "python",
      "pygments_lexer": "ipython3",
      "version": "3.8.5"
    },
    "toc": {
      "base_numbering": 1,
      "nav_menu": {},
      "number_sections": true,
      "sideBar": true,
      "skip_h1_title": false,
      "title_cell": "Table of Contents",
      "title_sidebar": "Contents",
      "toc_cell": false,
      "toc_position": {},
      "toc_section_display": true,
      "toc_window_display": false
    },
    "varInspector": {
      "cols": {
        "lenName": 16,
        "lenType": 16,
        "lenVar": 40
      },
      "kernels_config": {
        "python": {
          "delete_cmd_postfix": "",
          "delete_cmd_prefix": "del ",
          "library": "var_list.py",
          "varRefreshCmd": "print(var_dic_list())"
        },
        "r": {
          "delete_cmd_postfix": ") ",
          "delete_cmd_prefix": "rm(",
          "library": "var_list.r",
          "varRefreshCmd": "cat(var_dic_list()) "
        }
      },
      "types_to_exclude": [
        "module",
        "function",
        "builtin_function_or_method",
        "instance",
        "_Feature"
      ],
      "window_display": false
    },
    "colab": {
      "name": "Class prep. # 02. type - list.ipynb",
      "provenance": [],
      "collapsed_sections": [],
      "include_colab_link": true
    }
  },
  "nbformat": 4,
  "nbformat_minor": 0
}