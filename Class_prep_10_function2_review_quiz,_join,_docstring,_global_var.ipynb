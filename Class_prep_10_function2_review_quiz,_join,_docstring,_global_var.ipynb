{
  "cells": [
    {
      "cell_type": "markdown",
      "metadata": {
        "id": "view-in-github",
        "colab_type": "text"
      },
      "source": [
        "<a href=\"https://colab.research.google.com/github/FlashChoi5657/iTshirt/blob/main/Class_prep_10_function2_review_quiz%2C_join%2C_docstring%2C_global_var.ipynb\" target=\"_parent\"><img src=\"https://colab.research.google.com/assets/colab-badge.svg\" alt=\"Open In Colab\"/></a>"
      ]
    },
    {
      "cell_type": "markdown",
      "metadata": {
        "id": "7kdtXESZAgaD"
      },
      "source": [
        "### Review Quiz\n",
        "  OTP 생성기"
      ]
    },
    {
      "cell_type": "code",
      "execution_count": 5,
      "metadata": {
        "ExecuteTime": {
          "end_time": "2021-01-14T08:33:22.727030Z",
          "start_time": "2021-01-14T08:33:21.738513Z"
        },
        "colab": {
          "base_uri": "https://localhost:8080/"
        },
        "id": "LUpvyf61AgaH",
        "outputId": "5422b77e-01c8-4736-8a07-5e590ec2ca32"
      },
      "outputs": [
        {
          "output_type": "execute_result",
          "data": {
            "text/plain": [
              "('298702', '124336')"
            ]
          },
          "metadata": {},
          "execution_count": 5
        }
      ],
      "source": [
        "def genPass():\n",
        "  import random\n",
        "  num='0123456789'\n",
        "  password = ''\n",
        "\n",
        "  for i in range(6):\n",
        "    idx = random.randrange(len(num))\n",
        "    password += num[idx]\n",
        "  \n",
        "  return password\n",
        "\n",
        "genPass(), genPass()"
      ]
    },
    {
      "cell_type": "markdown",
      "metadata": {
        "id": "YYe5_3_LAgaJ"
      },
      "source": [
        "#### join 문법\n",
        "    - 하나의 문자열로 합칠 수 있는 함수"
      ]
    },
    {
      "cell_type": "code",
      "execution_count": 6,
      "metadata": {
        "ExecuteTime": {
          "end_time": "2021-01-15T07:08:40.388478Z",
          "start_time": "2021-01-15T07:08:40.376501Z"
        },
        "id": "IscZRFL5AgaJ",
        "outputId": "470c3e0e-4a43-446c-b38a-e31c9dbaae63",
        "colab": {
          "base_uri": "https://localhost:8080/",
          "height": 36
        }
      },
      "outputs": [
        {
          "output_type": "execute_result",
          "data": {
            "text/plain": [
              "\"python is fun, isn't it?\""
            ],
            "application/vnd.google.colaboratory.intrinsic+json": {
              "type": "string"
            }
          },
          "metadata": {},
          "execution_count": 6
        }
      ],
      "source": [
        "ls = [\"python\", \"is\", \"fun,\", \"isn't it?\"]\n",
        "\" \".join(ls) # list안의 데이터들을 한 칸씩 띄우고 합치기"
      ]
    },
    {
      "cell_type": "markdown",
      "metadata": {
        "id": "sP80a0V9AgaK"
      },
      "source": [
        "#### docstring\n",
        "    - 함수를 선언할 때 함수에 대한 설명"
      ]
    },
    {
      "cell_type": "code",
      "execution_count": 7,
      "metadata": {
        "ExecuteTime": {
          "end_time": "2021-01-15T00:27:04.764772Z",
          "start_time": "2021-01-15T00:27:04.748815Z"
        },
        "id": "Xw2y-GeqAgaL"
      },
      "outputs": [],
      "source": [
        "def exam_doc(subj):\n",
        "    \"\"\"\n",
        "    이 함수에 대한 설명을 여기에 작성하면 됩니다\n",
        "    \"\"\"\n",
        "    print(\"docstring 예제\")    "
      ]
    },
    {
      "cell_type": "code",
      "execution_count": 8,
      "metadata": {
        "colab": {
          "base_uri": "https://localhost:8080/"
        },
        "id": "zXlwkrrbAgaL",
        "outputId": "81d1e7eb-f8d4-4ab6-b687-2c204c5ff0cd"
      },
      "outputs": [
        {
          "output_type": "stream",
          "name": "stdout",
          "text": [
            "docstring 예제\n"
          ]
        }
      ],
      "source": [
        "exam_doc(2)"
      ]
    },
    {
      "cell_type": "code",
      "execution_count": 9,
      "metadata": {
        "ExecuteTime": {
          "end_time": "2021-01-15T00:28:02.204391Z",
          "start_time": "2021-01-15T00:28:02.200408Z"
        },
        "colab": {
          "base_uri": "https://localhost:8080/"
        },
        "id": "YfWV3vLkAgaM",
        "outputId": "7910b0ce-80ac-44b6-9fb1-2f4a9169cd01"
      },
      "outputs": [
        {
          "output_type": "stream",
          "name": "stdout",
          "text": [
            "Help on function exam_doc in module __main__:\n",
            "\n",
            "exam_doc(subj)\n",
            "    이 함수에 대한 설명을 여기에 작성하면 됩니다\n",
            "\n"
          ]
        }
      ],
      "source": [
        "help(exam_doc)"
      ]
    },
    {
      "cell_type": "code",
      "execution_count": 10,
      "metadata": {
        "ExecuteTime": {
          "end_time": "2021-01-15T00:28:10.280929Z",
          "start_time": "2021-01-15T00:28:10.259950Z"
        },
        "colab": {
          "base_uri": "https://localhost:8080/",
          "height": 36
        },
        "id": "T0gH6zLTAgaM",
        "outputId": "010cbff5-fd78-4d28-e6ad-ac560e4e9da4"
      },
      "outputs": [
        {
          "output_type": "execute_result",
          "data": {
            "text/plain": [
              "'\\n    이 함수에 대한 설명을 여기에 작성하면 됩니다\\n    '"
            ],
            "application/vnd.google.colaboratory.intrinsic+json": {
              "type": "string"
            }
          },
          "metadata": {},
          "execution_count": 10
        }
      ],
      "source": [
        "exam_doc.__doc__"
      ]
    },
    {
      "cell_type": "markdown",
      "metadata": {
        "id": "BJ-Or5xZAgaN"
      },
      "source": [
        "#### 지역변수와 전역변수\n",
        "    - 함수 안에서 선언되는 변수와 밖에서 선언되는 변수의 범위\n",
        "    - global : 전역\n",
        "    - local : 지역"
      ]
    },
    {
      "cell_type": "code",
      "execution_count": 11,
      "metadata": {
        "ExecuteTime": {
          "end_time": "2021-01-15T00:36:40.675990Z",
          "start_time": "2021-01-15T00:36:40.670999Z"
        },
        "id": "iV6yfpNqAgaN",
        "colab": {
          "base_uri": "https://localhost:8080/"
        },
        "outputId": "6c09388a-a436-42e1-98a6-91af70718458"
      },
      "outputs": [
        {
          "output_type": "stream",
          "name": "stdout",
          "text": [
            "수박\n"
          ]
        }
      ],
      "source": [
        "def exam():\n",
        "    print(global_v)\n",
        "\n",
        "global_v = '수박'\n",
        "\n",
        "exam()\n"
      ]
    },
    {
      "cell_type": "code",
      "source": [
        "def exam2():\n",
        "    global_v = '바나나' # 내부에서 변수가 선언되면 함수 내부의 값을 사용\n",
        "    print(global_v)\n",
        "\n",
        "exam2()\n"
      ],
      "metadata": {
        "id": "QyRpQycuCI2I",
        "colab": {
          "base_uri": "https://localhost:8080/"
        },
        "outputId": "2b8a84e9-b1c2-48ea-877e-629287fd9782"
      },
      "execution_count": 12,
      "outputs": [
        {
          "output_type": "stream",
          "name": "stdout",
          "text": [
            "바나나\n"
          ]
        }
      ]
    },
    {
      "cell_type": "code",
      "source": [
        "def exam3():\n",
        "    global global_v\n",
        "    print(global_v)\n",
        "    global_v = '바나나'  # 여기서 global_v 는 전역변수일까요 지역변수일까요?\n",
        "    print(global_v)\n",
        "\n",
        "global_v = '수박'\n",
        "    \n",
        "exam3()"
      ],
      "metadata": {
        "id": "xxKk11nHCcDN",
        "colab": {
          "base_uri": "https://localhost:8080/"
        },
        "outputId": "3239969a-55ea-46a1-da70-096897784176"
      },
      "execution_count": 13,
      "outputs": [
        {
          "output_type": "stream",
          "name": "stdout",
          "text": [
            "수박\n",
            "바나나\n"
          ]
        }
      ]
    },
    {
      "cell_type": "code",
      "source": [
        ""
      ],
      "metadata": {
        "id": "RpqepVESG0KX"
      },
      "execution_count": null,
      "outputs": []
    }
  ],
  "metadata": {
    "hide_input": false,
    "kernelspec": {
      "display_name": "Python 3",
      "language": "python",
      "name": "python3"
    },
    "language_info": {
      "codemirror_mode": {
        "name": "ipython",
        "version": 3
      },
      "file_extension": ".py",
      "mimetype": "text/x-python",
      "name": "python",
      "nbconvert_exporter": "python",
      "pygments_lexer": "ipython3",
      "version": "3.8.5"
    },
    "toc": {
      "base_numbering": 1,
      "nav_menu": {},
      "number_sections": true,
      "sideBar": true,
      "skip_h1_title": false,
      "title_cell": "Table of Contents",
      "title_sidebar": "Contents",
      "toc_cell": false,
      "toc_position": {},
      "toc_section_display": true,
      "toc_window_display": false
    },
    "varInspector": {
      "cols": {
        "lenName": 16,
        "lenType": 16,
        "lenVar": 40
      },
      "kernels_config": {
        "python": {
          "delete_cmd_postfix": "",
          "delete_cmd_prefix": "del ",
          "library": "var_list.py",
          "varRefreshCmd": "print(var_dic_list())"
        },
        "r": {
          "delete_cmd_postfix": ") ",
          "delete_cmd_prefix": "rm(",
          "library": "var_list.r",
          "varRefreshCmd": "cat(var_dic_list()) "
        }
      },
      "types_to_exclude": [
        "module",
        "function",
        "builtin_function_or_method",
        "instance",
        "_Feature"
      ],
      "window_display": false
    },
    "colab": {
      "name": "Class prep. # 10. function2 - review quiz, join, docstring, global var.ipynb",
      "provenance": [],
      "collapsed_sections": [],
      "include_colab_link": true
    }
  },
  "nbformat": 4,
  "nbformat_minor": 0
}