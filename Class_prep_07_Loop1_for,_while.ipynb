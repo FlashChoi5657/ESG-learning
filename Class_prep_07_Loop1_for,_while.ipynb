{
  "cells": [
    {
      "cell_type": "markdown",
      "metadata": {
        "id": "view-in-github",
        "colab_type": "text"
      },
      "source": [
        "<a href=\"https://colab.research.google.com/github/FlashChoi5657/iTshirt/blob/main/Class_prep_07_Loop1_for%2C_while.ipynb\" target=\"_parent\"><img src=\"https://colab.research.google.com/assets/colab-badge.svg\" alt=\"Open In Colab\"/></a>"
      ]
    },
    {
      "cell_type": "markdown",
      "metadata": {
        "id": "5BgK6kGL-oXl"
      },
      "source": [
        "### Loop문\n",
        "    - 특정 코드를 종료시점까지 반복적으로 수행할 수 있는 구문\n",
        "    - for, while, continue, break\n",
        "    - list comprehention\n",
        "    - 머신러닝에서 학습을 시킬 수 있게하는 기본 코드"
      ]
    },
    {
      "cell_type": "markdown",
      "metadata": {
        "id": "OJIyxlsO-oXo"
      },
      "source": [
        "#### for문 1\n",
        "    - iterable한(반복 가능한) 값을 꺼내와서 변수에 대입시킨 후 갯수만큼 실행\n",
        "```python\n",
        "    for 변수 in 범위:\n",
        "        실행문\n",
        "```\n",
        "    - 범위(range)를 정하여 반복 횟수를 지정하고 지정한 횟수가 되면 loop문을 종료"
      ]
    },
    {
      "cell_type": "code",
      "execution_count": 1,
      "metadata": {
        "ExecuteTime": {
          "end_time": "2021-01-13T08:38:54.257271Z",
          "start_time": "2021-01-13T08:38:54.245302Z"
        },
        "id": "fgrKdhVV-oXp",
        "outputId": "79bba19a-484a-4c34-d7d6-a894582f895b",
        "colab": {
          "base_uri": "https://localhost:8080/"
        }
      },
      "outputs": [
        {
          "output_type": "stream",
          "name": "stdout",
          "text": [
            "0\n",
            "1\n",
            "2\n",
            "3\n",
            "4\n",
            "5\n",
            "6\n",
            "7\n",
            "8\n",
            "9\n"
          ]
        }
      ],
      "source": [
        "for i in range(10):\n",
        "    print(i)"
      ]
    },
    {
      "cell_type": "code",
      "execution_count": null,
      "metadata": {
        "ExecuteTime": {
          "end_time": "2021-01-13T09:03:33.581729Z",
          "start_time": "2021-01-13T09:03:33.566770Z"
        },
        "id": "N2mbUGBm-oXq",
        "outputId": "7b42ecc5-2ad6-46da-f889-f07820274f58"
      },
      "outputs": [
        {
          "name": "stdout",
          "output_type": "stream",
          "text": [
            "7 x  1 = 7\n",
            "7 x  2 = 14\n",
            "7 x  3 = 21\n",
            "7 x  4 = 28\n",
            "7 x  5 = 35\n",
            "7 x  6 = 42\n",
            "7 x  7 = 49\n",
            "7 x  8 = 56\n",
            "7 x  9 = 63\n"
          ]
        }
      ],
      "source": [
        "# 구구단 7단 출력해보기\n",
        "for i in range(1,10):\n",
        "    print(\"7 x \",i,\"=\", 7*i)"
      ]
    },
    {
      "cell_type": "code",
      "execution_count": null,
      "metadata": {
        "ExecuteTime": {
          "end_time": "2021-01-14T01:39:00.933593Z",
          "start_time": "2021-01-14T01:39:00.916638Z"
        },
        "scrolled": true,
        "id": "W-lHu-D8-oXr"
      },
      "outputs": [],
      "source": [
        "text = \"Hello Python. Hello world!\"\n",
        "for word in text:\n",
        "    print(word)"
      ]
    },
    {
      "cell_type": "code",
      "execution_count": 3,
      "metadata": {
        "ExecuteTime": {
          "end_time": "2021-01-14T01:40:38.479767Z",
          "start_time": "2021-01-14T01:40:38.469797Z"
        },
        "scrolled": true,
        "colab": {
          "base_uri": "https://localhost:8080/"
        },
        "id": "JZp8x475-oXr",
        "outputId": "d7732a34-09ed-41c6-e96b-5b111d008347"
      },
      "outputs": [
        {
          "output_type": "stream",
          "name": "stdout",
          "text": [
            "game AI\n",
            "classification\n",
            "clustering\n"
          ]
        }
      ],
      "source": [
        "dic_t = {'Reinforcement learning': 'game AI',\n",
        " 'Supervised learning': 'classification',\n",
        " 'Unsupervised learning': 'clustering'}\n",
        "\n",
        "for value in dic_t.values():\n",
        "    print(value)"
      ]
    },
    {
      "cell_type": "markdown",
      "source": [
        "2개 이상의 변수 받기"
      ],
      "metadata": {
        "id": "NrahGuw-LJ6M"
      }
    },
    {
      "cell_type": "code",
      "source": [
        "for key, value in dic_t.items():\n",
        "  print('key: ', key,'---------', 'value: ', value)"
      ],
      "metadata": {
        "colab": {
          "base_uri": "https://localhost:8080/"
        },
        "id": "GGiZoRvB_Rwg",
        "outputId": "2dfa2e7e-07f7-4ab3-fdc1-1ab420344476"
      },
      "execution_count": 4,
      "outputs": [
        {
          "output_type": "stream",
          "name": "stdout",
          "text": [
            "key:  Reinforcement learning --------- value:  game AI\n",
            "key:  Supervised learning --------- value:  classification\n",
            "key:  Unsupervised learning --------- value:  clustering\n"
          ]
        }
      ]
    },
    {
      "cell_type": "code",
      "source": [
        "for key, value in zip(dic_t.keys(), dic_t.values()):\n",
        "  print('key: ', key,'---------', 'value: ', value)\n",
        "  \n",
        "ls1 = dic_t.keys()\n",
        "ls2 = dic_t.values()"
      ],
      "metadata": {
        "colab": {
          "base_uri": "https://localhost:8080/"
        },
        "id": "Uhg74XM0LS39",
        "outputId": "6bdccaf8-2d95-4575-de6c-214d0a48a7e5"
      },
      "execution_count": 5,
      "outputs": [
        {
          "output_type": "stream",
          "name": "stdout",
          "text": [
            "key:  Reinforcement learning --------- value:  game AI\n",
            "key:  Supervised learning --------- value:  classification\n",
            "key:  Unsupervised learning --------- value:  clustering\n"
          ]
        }
      ]
    },
    {
      "cell_type": "code",
      "source": [
        "for k, v in zip(ls1, ls2):\n",
        "  print('key: ', k, '------', 'value: ', v)"
      ],
      "metadata": {
        "colab": {
          "base_uri": "https://localhost:8080/"
        },
        "id": "IU9vHNDdAxCc",
        "outputId": "29674b03-2236-4c1c-c819-e31bf8f7a38d"
      },
      "execution_count": 8,
      "outputs": [
        {
          "output_type": "stream",
          "name": "stdout",
          "text": [
            "key:  Reinforcement learning ------ value:  game AI\n",
            "key:  Supervised learning ------ value:  classification\n",
            "key:  Unsupervised learning ------ value:  clustering\n"
          ]
        }
      ]
    },
    {
      "cell_type": "markdown",
      "metadata": {
        "id": "kIUSy7jQ-oXs"
      },
      "source": [
        "#### for문 quiz"
      ]
    },
    {
      "cell_type": "code",
      "execution_count": 9,
      "metadata": {
        "ExecuteTime": {
          "end_time": "2021-01-14T03:53:11.028947Z",
          "start_time": "2021-01-14T03:53:09.038216Z"
        },
        "id": "7q0K_2s1-oXs",
        "outputId": "4e706272-d1e9-4380-960b-ba2f635ceb75",
        "colab": {
          "base_uri": "https://localhost:8080/"
        }
      },
      "outputs": [
        {
          "output_type": "stream",
          "name": "stdout",
          "text": [
            "첫번째 숫자 입력: 16\n",
            "두번째 숫자 입력: 24\n",
            "최대공약수는 8 입니다\n"
          ]
        }
      ],
      "source": [
        "# 최대공약수 구하기\n",
        "a = int(input(\"첫번째 숫자 입력: \"))\n",
        "b = int(input(\"두번째 숫자 입력: \"))\n",
        "\n",
        "for i in range(max(a, b), 1, -1):\n",
        "    if a % i == 0 and b % i == 0:\n",
        "        print(\"최대공약수는 %s 입니다\"%(i)) # s: string  d: digit f:float\n",
        "        break\n",
        "    else:\n",
        "        continue"
      ]
    },
    {
      "cell_type": "markdown",
      "metadata": {
        "id": "pWPyDrvH-oXt"
      },
      "source": [
        "### Quiz\n",
        "    list안의 list의 데이터를 꺼내서 출력해보기"
      ]
    },
    {
      "cell_type": "code",
      "execution_count": null,
      "metadata": {
        "ExecuteTime": {
          "end_time": "2021-01-14T06:31:46.458379Z",
          "start_time": "2021-01-14T06:31:46.449407Z"
        },
        "colab": {
          "base_uri": "https://localhost:8080/"
        },
        "id": "b76LToev-oXt",
        "outputId": "46f55aad-5336-4ad5-a9da-666ae63c6dbd"
      },
      "outputs": [
        {
          "output_type": "stream",
          "name": "stdout",
          "text": [
            "VVIP 등급입니다.\n",
            "발렛파킹이 가능합니다\n",
            "VIP 등급입니다.\n",
            "발렛파킹이 가능합니다\n",
            "Platinum 등급입니다.\n",
            "우대주차장에 주차가 가능합니다\n",
            "Family 등급입니다.\n",
            "지하 12층으로 가세요\n"
          ]
        }
      ],
      "source": [
        "member = [['VVIP',50_000], ['VIP',30_000],['Platinum', 20_000],['Family', 10_000]]\n",
        "\n"
      ]
    },
    {
      "cell_type": "markdown",
      "metadata": {
        "id": "S3gWnCxb-oXu"
      },
      "source": [
        "#### while 문\n",
        "```python\n",
        "while 조건문: # 조건문이 False가 될 때까지 반복\n",
        "    실행문\n",
        "```"
      ]
    },
    {
      "cell_type": "code",
      "source": [
        "a = 1\n",
        "\n",
        "while a<10:\n",
        "  print(a)\n",
        "  a += 1"
      ],
      "metadata": {
        "id": "MmZyjlIpA2dk",
        "colab": {
          "base_uri": "https://localhost:8080/"
        },
        "outputId": "d53c065d-4732-4dc7-c1c7-25b2cbfaf87c"
      },
      "execution_count": 12,
      "outputs": [
        {
          "output_type": "stream",
          "name": "stdout",
          "text": [
            "1\n",
            "2\n",
            "3\n",
            "4\n",
            "5\n",
            "6\n",
            "7\n",
            "8\n",
            "9\n"
          ]
        }
      ]
    },
    {
      "cell_type": "code",
      "execution_count": 13,
      "metadata": {
        "ExecuteTime": {
          "end_time": "2021-01-14T01:42:35.632260Z",
          "start_time": "2021-01-14T01:42:35.628301Z"
        },
        "id": "sl2TpFDo-oXu",
        "colab": {
          "base_uri": "https://localhost:8080/"
        },
        "outputId": "7d0735cf-b897-412f-ff19-583e23f50d92"
      },
      "outputs": [
        {
          "output_type": "stream",
          "name": "stdout",
          "text": [
            "10\n",
            "9\n",
            "8\n",
            "7\n",
            "6\n",
            "5\n",
            "4\n",
            "3\n",
            "2\n",
            "1\n"
          ]
        }
      ],
      "source": [
        "rep = 10\n",
        "while rep: # \n",
        "    print(rep)\n",
        "    rep -= 1"
      ]
    },
    {
      "cell_type": "markdown",
      "metadata": {
        "id": "TiwtuO21-oXu"
      },
      "source": [
        "#### while문 quiz\n",
        "    while문을 이용하여 코드를 만들어보기"
      ]
    },
    {
      "cell_type": "code",
      "execution_count": 16,
      "metadata": {
        "ExecuteTime": {
          "end_time": "2021-01-14T02:24:49.682021Z",
          "start_time": "2021-01-14T02:24:49.673045Z"
        },
        "colab": {
          "base_uri": "https://localhost:8080/"
        },
        "id": "hjealqOk-oXv",
        "outputId": "1eb76a07-fc52-4196-b593-da017b668d29"
      },
      "outputs": [
        {
          "output_type": "stream",
          "name": "stdout",
          "text": [
            "8! 는 5040 입니다.\n"
          ]
        }
      ],
      "source": [
        "# factorial 계산 해보기\n",
        "\n",
        "i = 1\n",
        "factorial = 1\n",
        "\n",
        "while i < 8:\n",
        "  factorial = factorial * i\n",
        "  i = i + 1\n",
        "\n",
        "print(\"%s! 는 %s 입니다.\" %(i,factorial))"
      ]
    },
    {
      "cell_type": "code",
      "execution_count": 17,
      "metadata": {
        "ExecuteTime": {
          "end_time": "2021-01-14T03:38:31.043051Z",
          "start_time": "2021-01-14T03:38:31.035029Z"
        },
        "colab": {
          "base_uri": "https://localhost:8080/"
        },
        "id": "Su1DVWFo-oXv",
        "outputId": "4e894a5a-bb44-4a0a-a7ec-717bb03493ff"
      },
      "outputs": [
        {
          "output_type": "stream",
          "name": "stdout",
          "text": [
            "1부터 100 사이의 모든 3의 배수의 합은 1683입니다.\n"
          ]
        }
      ],
      "source": [
        "# 배수의 합 계산 프로그램 만들기\n",
        "# 1부터 100사이의 모든 3의 배수의 합을 계산하여 출력해보자\n",
        "\n",
        "sum = 0\n",
        "num = 1\n",
        "\n",
        "while num <= 100:\n",
        "  if num % 3 == 0:\n",
        "    sum += num\n",
        "  num += 1\n",
        "\n",
        "print(f\"1부터 100 사이의 모든 3의 배수의 합은 {sum}입니다.\")"
      ]
    },
    {
      "cell_type": "code",
      "execution_count": 18,
      "metadata": {
        "ExecuteTime": {
          "end_time": "2021-01-14T03:13:12.194410Z",
          "start_time": "2021-01-14T03:13:12.175462Z"
        },
        "colab": {
          "base_uri": "https://localhost:8080/"
        },
        "id": "KIpABoDB-oXv",
        "outputId": "c1229fc0-3430-471f-d479-ebd560b17899"
      },
      "outputs": [
        {
          "output_type": "stream",
          "name": "stdout",
          "text": [
            "자리 수의 합은 10 입니다.\n"
          ]
        }
      ],
      "source": [
        "# 정수 안의 각 자리 수의 합을 계산해보자\n",
        "# 예를 들어 1234 라면 1+2+3+4를 계산해야 한다.\n",
        "\n",
        "number = 1234\n",
        "sum = 0\n",
        "\n",
        "while number > 0:\n",
        "  digit = number % 10 # 4, 3, 2, 1\n",
        "  sum += digit \n",
        "  number //= 10 # 123 , 12, 1 , 0\n",
        "\n",
        "print('자리 수의 합은 %s 입니다.' %(sum))"
      ]
    },
    {
      "cell_type": "markdown",
      "metadata": {
        "id": "QIRjlO2B-oXw"
      },
      "source": [
        "#### while문의 무한루프"
      ]
    },
    {
      "cell_type": "code",
      "execution_count": 21,
      "metadata": {
        "ExecuteTime": {
          "end_time": "2021-01-14T03:41:31.311340Z",
          "start_time": "2021-01-14T03:41:31.296383Z"
        },
        "id": "AVJcb4MM-oXw",
        "outputId": "1ec7b1b9-98e8-4a0c-fc73-42458e444c77",
        "colab": {
          "base_uri": "https://localhost:8080/"
        }
      },
      "outputs": [
        {
          "output_type": "stream",
          "name": "stdout",
          "text": [
            "1\n",
            "2\n",
            "3\n",
            "4\n",
            "5\n",
            "6\n",
            "7\n",
            "8\n",
            "9\n",
            "10\n",
            "break!\n"
          ]
        }
      ],
      "source": [
        "# 하지마세요오오오\n",
        "res = 1\n",
        "while res:\n",
        "    print(res)\n",
        "    res += 1\n",
        "    # 탈출 조건문 작성\n",
        "    if res > 10:\n",
        "        print(\"break!\")\n",
        "        break"
      ]
    },
    {
      "cell_type": "markdown",
      "metadata": {
        "id": "MI3QsK__-oXw"
      },
      "source": [
        "### Quiz\n",
        "    로또 번호 생성기"
      ]
    },
    {
      "cell_type": "code",
      "execution_count": 27,
      "metadata": {
        "ExecuteTime": {
          "end_time": "2021-01-14T08:51:57.329386Z",
          "start_time": "2021-01-14T08:51:57.318416Z"
        },
        "id": "gQB8V54M-oXw",
        "outputId": "007d964c-4bde-420c-c9dc-928499f04ce9",
        "colab": {
          "base_uri": "https://localhost:8080/"
        }
      },
      "outputs": [
        {
          "output_type": "execute_result",
          "data": {
            "text/plain": [
              "[3, 4, 6, 15, 27, 37]"
            ]
          },
          "metadata": {},
          "execution_count": 27
        }
      ],
      "source": [
        "# 1~45까지의 숫자를 중복없이 6개를 추출하여 한 리스트에 담기\n",
        "# random 모듈을 이용하여 작성\n",
        "# 무한루프를 돌리되 break를 이용하여 탈출할 수 있도록 작성\n",
        "import random\n",
        "\n",
        "lotto = []\n",
        "\n",
        "while True:\n",
        "  number = random.randint(1,45)\n",
        "  if number not in lotto:\n",
        "    lotto.append(number)\n",
        "  if len(lotto) == 6:\n",
        "    break\n",
        "\n",
        "lotto.sort()\n",
        "lotto"
      ]
    },
    {
      "cell_type": "code",
      "source": [
        ""
      ],
      "metadata": {
        "id": "2HElq3YEGhg3"
      },
      "execution_count": null,
      "outputs": []
    }
  ],
  "metadata": {
    "hide_input": false,
    "kernelspec": {
      "display_name": "Python 3",
      "language": "python",
      "name": "python3"
    },
    "language_info": {
      "codemirror_mode": {
        "name": "ipython",
        "version": 3
      },
      "file_extension": ".py",
      "mimetype": "text/x-python",
      "name": "python",
      "nbconvert_exporter": "python",
      "pygments_lexer": "ipython3",
      "version": "3.8.5"
    },
    "toc": {
      "base_numbering": 1,
      "nav_menu": {},
      "number_sections": true,
      "sideBar": true,
      "skip_h1_title": false,
      "title_cell": "Table of Contents",
      "title_sidebar": "Contents",
      "toc_cell": false,
      "toc_position": {},
      "toc_section_display": true,
      "toc_window_display": false
    },
    "varInspector": {
      "cols": {
        "lenName": 16,
        "lenType": 16,
        "lenVar": 40
      },
      "kernels_config": {
        "python": {
          "delete_cmd_postfix": "",
          "delete_cmd_prefix": "del ",
          "library": "var_list.py",
          "varRefreshCmd": "print(var_dic_list())"
        },
        "r": {
          "delete_cmd_postfix": ") ",
          "delete_cmd_prefix": "rm(",
          "library": "var_list.r",
          "varRefreshCmd": "cat(var_dic_list()) "
        }
      },
      "types_to_exclude": [
        "module",
        "function",
        "builtin_function_or_method",
        "instance",
        "_Feature"
      ],
      "window_display": false
    },
    "colab": {
      "name": "Class prep. # 07 Loop1 - for, while.ipynb",
      "provenance": [],
      "collapsed_sections": [],
      "include_colab_link": true
    }
  },
  "nbformat": 4,
  "nbformat_minor": 0
}