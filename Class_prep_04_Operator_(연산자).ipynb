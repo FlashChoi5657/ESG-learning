{
  "cells": [
    {
      "cell_type": "markdown",
      "metadata": {
        "id": "view-in-github",
        "colab_type": "text"
      },
      "source": [
        "<a href=\"https://colab.research.google.com/github/FlashChoi5657/iTshirt/blob/main/Class_prep_04_Operator_(%EC%97%B0%EC%82%B0%EC%9E%90).ipynb\" target=\"_parent\"><img src=\"https://colab.research.google.com/assets/colab-badge.svg\" alt=\"Open In Colab\"/></a>"
      ]
    },
    {
      "cell_type": "code",
      "source": [
        "list1 = []\n",
        "list2 = list()\n",
        "print(type(list1), type(list2))\n",
        "\n",
        "tuple1 = ()\n",
        "tuple2 = tuple()\n",
        "print(type(tuple1), type(tuple2))\n",
        "\n",
        "dict1 = {}\n",
        "dict2 = dict()\n",
        "print(type(dict1), type(dict2))\n"
      ],
      "metadata": {
        "colab": {
          "base_uri": "https://localhost:8080/"
        },
        "id": "lFZbOptdbjo7",
        "outputId": "6bb4c200-3d82-48a7-a7b6-d836f351f20a"
      },
      "execution_count": 1,
      "outputs": [
        {
          "output_type": "stream",
          "name": "stdout",
          "text": [
            "<class 'list'> <class 'list'>\n",
            "<class 'tuple'> <class 'tuple'>\n",
            "<class 'dict'> <class 'dict'>\n"
          ]
        }
      ]
    },
    {
      "cell_type": "markdown",
      "metadata": {
        "id": "5jwuDWQiA8RX"
      },
      "source": [
        "### 연산자\n",
        "    - 산술\n",
        "    - 할당\n",
        "    - 비교\n",
        "    - 논리\n",
        "    - 멤버"
      ]
    },
    {
      "cell_type": "markdown",
      "metadata": {
        "id": "0PDnCl3vA8Rb"
      },
      "source": [
        "#### 산술\n",
        "    + : 덧셈\n",
        "    - : 뺄셈\n",
        "    * : 곱셈\n",
        "    / : 나눗셈\n",
        "    //: 나눗셈의 몫만\n",
        "    % : 나눗셈의 나머지만\n",
        "    **: 제곱"
      ]
    },
    {
      "cell_type": "code",
      "execution_count": 2,
      "metadata": {
        "ExecuteTime": {
          "end_time": "2021-01-13T07:39:00.889615Z",
          "start_time": "2021-01-13T07:39:00.869674Z"
        },
        "id": "OARdUzEiA8Rc",
        "colab": {
          "base_uri": "https://localhost:8080/"
        },
        "outputId": "3ab29872-62e3-45ed-9f55-04f03b303096"
      },
      "outputs": [
        {
          "output_type": "execute_result",
          "data": {
            "text/plain": [
              "6.0"
            ]
          },
          "metadata": {},
          "execution_count": 2
        }
      ],
      "source": [
        "8 - 4 * 2 / 2 ** 2"
      ]
    },
    {
      "cell_type": "markdown",
      "metadata": {
        "id": "azFxgvnEA8Rd"
      },
      "source": [
        "#### 할당"
      ]
    },
    {
      "cell_type": "code",
      "execution_count": 3,
      "metadata": {
        "ExecuteTime": {
          "end_time": "2021-01-13T07:39:55.778548Z",
          "start_time": "2021-01-13T07:39:55.766565Z"
        },
        "id": "ImULZCFaA8Rd",
        "outputId": "7b76f533-4cfc-4b25-90e7-a0bc63fd4976",
        "colab": {
          "base_uri": "https://localhost:8080/"
        }
      },
      "outputs": [
        {
          "output_type": "execute_result",
          "data": {
            "text/plain": [
              "121.00000000000003"
            ]
          },
          "metadata": {},
          "execution_count": 3
        }
      ],
      "source": [
        "a = 100\n",
        "a *= 1.1 # a = a * 1.1\n",
        "a *= 1.1 \n",
        "a"
      ]
    },
    {
      "cell_type": "code",
      "source": [
        "a=0\n",
        "\n",
        "for i in range(1,11):\n",
        "  a += i\n",
        "  # a = a + i\n",
        "\n",
        "print(a)"
      ],
      "metadata": {
        "colab": {
          "base_uri": "https://localhost:8080/"
        },
        "id": "2-rHX4KDBA7j",
        "outputId": "99854574-c49f-41c4-8bb8-09ca3e40825a"
      },
      "execution_count": 5,
      "outputs": [
        {
          "output_type": "stream",
          "name": "stdout",
          "text": [
            "55\n"
          ]
        }
      ]
    },
    {
      "cell_type": "markdown",
      "metadata": {
        "id": "Ho9nZ69bA8Re"
      },
      "source": [
        "#### 비교\n",
        "    >, <, >=, <=, ==, !=\n",
        "    결과값은 True, False로 출력"
      ]
    },
    {
      "cell_type": "code",
      "execution_count": 6,
      "metadata": {
        "ExecuteTime": {
          "end_time": "2021-01-13T07:41:11.298220Z",
          "start_time": "2021-01-13T07:41:11.283259Z"
        },
        "id": "JdO0oPdHA8Re",
        "outputId": "a819b648-2df3-477a-90d3-33ef720f00db",
        "colab": {
          "base_uri": "https://localhost:8080/"
        }
      },
      "outputs": [
        {
          "output_type": "stream",
          "name": "stdout",
          "text": [
            "True False\n",
            "False\n"
          ]
        }
      ],
      "source": [
        "b = 3 # int\n",
        "c = 3.0 # float\n",
        "\n",
        "print(b == c, b > c)\n",
        "print(b != c)"
      ]
    },
    {
      "cell_type": "markdown",
      "metadata": {
        "id": "nmepP1VeA8Rf"
      },
      "source": [
        "#### 논리 \n",
        "    and, or, not\n",
        "    True, False로 나타내는 연산\n",
        "    연산은 앞에서부터 순서대로 진행\n",
        "    and : 앞 뒤 조건을 모두 만족할 때만 True\n",
        "    or : 앞 뒤 조건 중 하나라도 만족한다면 True\n",
        "    not : 부정형"
      ]
    },
    {
      "cell_type": "code",
      "execution_count": 7,
      "metadata": {
        "ExecuteTime": {
          "end_time": "2021-01-13T07:42:24.540072Z",
          "start_time": "2021-01-13T07:42:24.535085Z"
        },
        "id": "cs174_NWA8Rf",
        "outputId": "238040f9-9f77-4ce5-8c61-206ff84f6a79",
        "colab": {
          "base_uri": "https://localhost:8080/"
        }
      },
      "outputs": [
        {
          "output_type": "stream",
          "name": "stdout",
          "text": [
            "False True False\n",
            "True False True\n"
          ]
        }
      ],
      "source": [
        "print(True and False, True or False, not True or False)\n",
        "print(True and True, False or False, not False or False)"
      ]
    },
    {
      "cell_type": "markdown",
      "metadata": {
        "id": "f34ceVVxA8Rg"
      },
      "source": [
        "#### 멤버\n",
        "    in, not in\n",
        "    특정 데이터가 있는지 확인할 때 사용"
      ]
    },
    {
      "cell_type": "code",
      "source": [
        "a = ['python', 'AI', 'class', 'deep learning']\n",
        "\n",
        "'python' in a, 'CNN' in a, 'ai' in a\n"
      ],
      "metadata": {
        "colab": {
          "base_uri": "https://localhost:8080/"
        },
        "id": "WK8Vi2tp8HvN",
        "outputId": "b2441c83-e4f0-4699-e7c5-258d37ab2316"
      },
      "execution_count": 8,
      "outputs": [
        {
          "output_type": "execute_result",
          "data": {
            "text/plain": [
              "(True, False, False)"
            ]
          },
          "metadata": {},
          "execution_count": 8
        }
      ]
    },
    {
      "cell_type": "code",
      "source": [
        ""
      ],
      "metadata": {
        "id": "z-5rdWoW8lBx"
      },
      "execution_count": null,
      "outputs": []
    }
  ],
  "metadata": {
    "hide_input": false,
    "kernelspec": {
      "display_name": "Python 3",
      "language": "python",
      "name": "python3"
    },
    "language_info": {
      "codemirror_mode": {
        "name": "ipython",
        "version": 3
      },
      "file_extension": ".py",
      "mimetype": "text/x-python",
      "name": "python",
      "nbconvert_exporter": "python",
      "pygments_lexer": "ipython3",
      "version": "3.8.5"
    },
    "toc": {
      "base_numbering": 1,
      "nav_menu": {},
      "number_sections": true,
      "sideBar": true,
      "skip_h1_title": false,
      "title_cell": "Table of Contents",
      "title_sidebar": "Contents",
      "toc_cell": false,
      "toc_position": {},
      "toc_section_display": true,
      "toc_window_display": false
    },
    "varInspector": {
      "cols": {
        "lenName": 16,
        "lenType": 16,
        "lenVar": 40
      },
      "kernels_config": {
        "python": {
          "delete_cmd_postfix": "",
          "delete_cmd_prefix": "del ",
          "library": "var_list.py",
          "varRefreshCmd": "print(var_dic_list())"
        },
        "r": {
          "delete_cmd_postfix": ") ",
          "delete_cmd_prefix": "rm(",
          "library": "var_list.r",
          "varRefreshCmd": "cat(var_dic_list()) "
        }
      },
      "types_to_exclude": [
        "module",
        "function",
        "builtin_function_or_method",
        "instance",
        "_Feature"
      ],
      "window_display": false
    },
    "colab": {
      "name": "Class prep. # 04. Operator (연산자).ipynb",
      "provenance": [],
      "collapsed_sections": [],
      "include_colab_link": true
    }
  },
  "nbformat": 4,
  "nbformat_minor": 0
}