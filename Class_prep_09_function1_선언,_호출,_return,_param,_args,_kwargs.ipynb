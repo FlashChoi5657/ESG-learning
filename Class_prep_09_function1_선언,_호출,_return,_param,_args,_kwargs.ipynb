{
  "cells": [
    {
      "cell_type": "markdown",
      "metadata": {
        "id": "view-in-github",
        "colab_type": "text"
      },
      "source": [
        "<a href=\"https://colab.research.google.com/github/FlashChoi5657/iTshirt/blob/main/Class_prep_09_function1_%EC%84%A0%EC%96%B8%2C_%ED%98%B8%EC%B6%9C%2C_return%2C_param%2C_args%2C_kwargs.ipynb\" target=\"_parent\"><img src=\"https://colab.research.google.com/assets/colab-badge.svg\" alt=\"Open In Colab\"/></a>"
      ]
    },
    {
      "cell_type": "markdown",
      "metadata": {
        "id": "oCMA1oqeN8nz"
      },
      "source": [
        "## Function\n",
        "    - 특정 목적을 위해 작성한 코드(연산)의 집합\n",
        "    - 독립적인 호출과 간결한 코드 작성을 위해 사용 : 코드 작성의 반복을 줄일 수 있음!"
      ]
    },
    {
      "cell_type": "code",
      "execution_count": 1,
      "metadata": {
        "ExecuteTime": {
          "end_time": "2021-01-14T06:54:17.674476Z",
          "start_time": "2021-01-14T06:54:17.659508Z"
        },
        "id": "Mi0xXLtgN8n1",
        "outputId": "7e85b993-3f67-42b3-df40-39efcf9bff70",
        "colab": {
          "base_uri": "https://localhost:8080/"
        }
      },
      "outputs": [
        {
          "output_type": "execute_result",
          "data": {
            "text/plain": [
              "375"
            ]
          },
          "metadata": {},
          "execution_count": 1
        }
      ],
      "source": [
        "score = 0\n",
        "test = [100, 90, 50, 65, 70]\n",
        "\n",
        "for s in test:\n",
        "    score += s\n",
        "\n",
        "score"
      ]
    },
    {
      "cell_type": "code",
      "execution_count": null,
      "metadata": {
        "ExecuteTime": {
          "end_time": "2021-01-14T06:55:17.127677Z",
          "start_time": "2021-01-14T06:55:17.117703Z"
        },
        "id": "jom6NzJEN8n3",
        "outputId": "463425b9-9870-4c89-d4be-feeef847f52a"
      },
      "outputs": [
        {
          "data": {
            "text/plain": [
              "686"
            ]
          },
          "execution_count": 2,
          "metadata": {},
          "output_type": "execute_result"
        }
      ],
      "source": [
        "test2 = [50, 22, 29, 100, 10, 100]\n",
        "for s in test2:\n",
        "    score += s\n",
        "\n",
        "score"
      ]
    },
    {
      "cell_type": "markdown",
      "metadata": {
        "id": "DYtsygpHN8n3"
      },
      "source": [
        "    같은 연산의 코드 작성을 반복해서 써야하므로 불편하고 "
      ]
    },
    {
      "cell_type": "markdown",
      "metadata": {
        "id": "OcJ-cIp7N8n4"
      },
      "source": [
        "### 함수의 선언과 호출"
      ]
    },
    {
      "cell_type": "markdown",
      "metadata": {
        "id": "qh3vMJo3N8n4"
      },
      "source": [
        "#### 선언\n",
        "```python\n",
        "def 함수명(param1, param2, ...):\n",
        "    # 작성하고 싶은 코드 구문\n",
        "    #..\n",
        "    #..\n",
        "    return 결과값\n",
        "```"
      ]
    },
    {
      "cell_type": "code",
      "execution_count": 3,
      "metadata": {
        "ExecuteTime": {
          "end_time": "2021-01-14T06:57:52.828564Z",
          "start_time": "2021-01-14T06:57:52.810640Z"
        },
        "id": "JFWqpPQDN8n4"
      },
      "outputs": [],
      "source": [
        "def score(test):\n",
        "  point = 0    \n",
        "  for s in test:\n",
        "      point += s\n",
        "  return point\n"
      ]
    },
    {
      "cell_type": "code",
      "execution_count": 6,
      "metadata": {
        "ExecuteTime": {
          "end_time": "2021-01-14T06:58:22.867310Z",
          "start_time": "2021-01-14T06:58:22.858340Z"
        },
        "colab": {
          "base_uri": "https://localhost:8080/"
        },
        "id": "4fMnfhdWN8n5",
        "outputId": "4c7c2578-bd18-4fe3-bc03-9b6dd9321e23"
      },
      "outputs": [
        {
          "output_type": "stream",
          "name": "stdout",
          "text": [
            "161\n"
          ]
        }
      ],
      "source": [
        "test1 = [100, 50, 75, 65, 30]\n",
        "test2 = [50, 40, 25, 15, 11, 20]\n",
        "\n",
        "# print(score(test1))\n",
        "print(score(test2)) # 에러 발생"
      ]
    },
    {
      "cell_type": "code",
      "execution_count": 7,
      "metadata": {
        "ExecuteTime": {
          "end_time": "2021-01-14T06:59:03.878034Z",
          "start_time": "2021-01-14T06:59:03.863075Z"
        },
        "id": "E-HErg_QN8n6",
        "colab": {
          "base_uri": "https://localhost:8080/"
        },
        "outputId": "da69dcae-e994-42f2-a9cd-16dc09ccc5d3"
      },
      "outputs": [
        {
          "output_type": "execute_result",
          "data": {
            "text/plain": [
              "62.800000000000004"
            ]
          },
          "metadata": {},
          "execution_count": 7
        }
      ],
      "source": [
        "def get_area(radius):\n",
        "  return 3.14*radius*2\n",
        "\n",
        "get_area(10)"
      ]
    },
    {
      "cell_type": "code",
      "source": [
        "def get_area(radius):\n",
        "  return 3.14*radius*2\n",
        "\n",
        "get_area(10)"
      ],
      "metadata": {
        "colab": {
          "base_uri": "https://localhost:8080/"
        },
        "id": "mZX8Dn_wiVH5",
        "outputId": "386b80f0-8be0-4544-e03e-94e8cdc54ebe"
      },
      "execution_count": null,
      "outputs": [
        {
          "output_type": "execute_result",
          "data": {
            "text/plain": [
              "62.800000000000004"
            ]
          },
          "metadata": {},
          "execution_count": 9
        }
      ]
    },
    {
      "cell_type": "markdown",
      "metadata": {
        "id": "DhxxNQimN8n6"
      },
      "source": [
        "##### quiz\n",
        "    1. 정수를 제곱하는 함수\n",
        "    2. 평균을 구하는 함수"
      ]
    },
    {
      "cell_type": "code",
      "execution_count": 8,
      "metadata": {
        "ExecuteTime": {
          "end_time": "2021-01-14T07:08:43.393515Z",
          "start_time": "2021-01-14T07:08:43.370606Z"
        },
        "id": "6TBrqJvCN8n6",
        "outputId": "c7307030-cfc3-4088-dd4e-061eff0fb21d",
        "colab": {
          "base_uri": "https://localhost:8080/"
        }
      },
      "outputs": [
        {
          "output_type": "stream",
          "name": "stdout",
          "text": [
            "100 15.0\n"
          ]
        }
      ],
      "source": [
        "# 함수 작성\n",
        "def square(n):\n",
        "  return n**2\n",
        "\n",
        "def average(n1,n2):\n",
        "  return (n1+n2)/2\n",
        "\n",
        "print(square(10), average(10,20))"
      ]
    },
    {
      "cell_type": "markdown",
      "metadata": {
        "id": "-4MimEAIN8n7"
      },
      "source": [
        "#### 호출"
      ]
    },
    {
      "cell_type": "markdown",
      "metadata": {
        "id": "1cOuXQgXN8n7"
      },
      "source": [
        "##### parameter, argument\n",
        "```python\n",
        "    def 함수명(파라미터):\n",
        "        return\n",
        "    \n",
        "    함수명(아규먼트)\n",
        "```\n",
        "    - 파라미터는 함수를 선언할 때 호출할 변수\n",
        "    - 아규먼트는 함수를 호출할 때 보내줄 변수\n",
        "    - 함수를 선언할 때 파라미터의 타입과 개수를 맞추지 않으면 에러가 발생"
      ]
    },
    {
      "cell_type": "code",
      "execution_count": 10,
      "metadata": {
        "ExecuteTime": {
          "end_time": "2021-01-14T07:15:15.135876Z",
          "start_time": "2021-01-14T07:15:15.125903Z"
        },
        "id": "nHOqoazXN8n7",
        "outputId": "90c52a1f-cbfa-484d-dec4-df005bd30666",
        "colab": {
          "base_uri": "https://localhost:8080/"
        }
      },
      "outputs": [
        {
          "output_type": "execute_result",
          "data": {
            "text/plain": [
              "400"
            ]
          },
          "metadata": {},
          "execution_count": 10
        }
      ],
      "source": [
        "def bowling(n1, n2, n3=50): # n3 이름의 파라미터는 디폴트 파라미터\n",
        "    return n1+n2+n3\n",
        "\n",
        "bowling(200, 150)    # n3 파라미터에 값을 넣어주지 않아도 디폴트 값을 이용해서 실행"
      ]
    },
    {
      "cell_type": "code",
      "execution_count": 11,
      "metadata": {
        "ExecuteTime": {
          "end_time": "2021-01-14T07:15:26.535119Z",
          "start_time": "2021-01-14T07:15:26.518132Z"
        },
        "id": "R-fub8iON8n8",
        "outputId": "d36bfddc-3e6a-4f6c-edaa-7a039ac3f712",
        "colab": {
          "base_uri": "https://localhost:8080/"
        }
      },
      "outputs": [
        {
          "output_type": "execute_result",
          "data": {
            "text/plain": [
              "(350, 360)"
            ]
          },
          "metadata": {},
          "execution_count": 11
        }
      ],
      "source": [
        "bowling(200,150,0), bowling(200, 150, n3=10)"
      ]
    },
    {
      "cell_type": "markdown",
      "metadata": {
        "id": "CWlMPiCGN8n8"
      },
      "source": [
        "#### return\n",
        "    - 선언한 함수의 결과값을 저장\n",
        "    - 함수내에서 연산 진행중에 return에 도달하면 연산이 종료\n",
        "    - return을 작성하지 않으면 결과값을 저장하지 않음"
      ]
    },
    {
      "cell_type": "code",
      "execution_count": 13,
      "metadata": {
        "ExecuteTime": {
          "end_time": "2021-01-14T07:20:36.537675Z",
          "start_time": "2021-01-14T07:20:36.518729Z"
        },
        "id": "9jUWSujJN8n8",
        "colab": {
          "base_uri": "https://localhost:8080/"
        },
        "outputId": "011ac5af-dc56-42e0-8ec2-8a5a1b0b1d17"
      },
      "outputs": [
        {
          "output_type": "stream",
          "name": "stdout",
          "text": [
            "HELLO PYTHON\n"
          ]
        }
      ],
      "source": [
        "def print_test(text):\n",
        "    return text.upper()  # 앞에 있는 변수가 문자라면 전부 대문자로 만들어준다.\n",
        "\n",
        "text = \"hello python\"\n",
        "print(print_test(text))"
      ]
    },
    {
      "cell_type": "code",
      "execution_count": 16,
      "metadata": {
        "ExecuteTime": {
          "end_time": "2021-01-14T07:21:10.545877Z",
          "start_time": "2021-01-14T07:21:10.527925Z"
        },
        "id": "gAXOie1gN8n9",
        "colab": {
          "base_uri": "https://localhost:8080/",
          "height": 54
        },
        "outputId": "328f3b58-1f51-4116-a3d2-a5f1fab4aaf1"
      },
      "outputs": [
        {
          "output_type": "stream",
          "name": "stdout",
          "text": [
            "HELLO PYTHON\n"
          ]
        },
        {
          "output_type": "execute_result",
          "data": {
            "text/plain": [
              "'hello python'"
            ],
            "application/vnd.google.colaboratory.intrinsic+json": {
              "type": "string"
            }
          },
          "metadata": {},
          "execution_count": 16
        }
      ],
      "source": [
        "def print_test(text):\n",
        "    print(text.upper())\n",
        "    return text.upper()\n",
        "text = \"hello python\"\n",
        "# print_test(text)\n",
        "print_test(text).lower() # 저장된 결과 값이 없으므로 lower()함수를 실행시킬 수 없음 "
      ]
    },
    {
      "cell_type": "code",
      "execution_count": 17,
      "metadata": {
        "ExecuteTime": {
          "end_time": "2021-01-14T07:26:45.716138Z",
          "start_time": "2021-01-14T07:26:45.697217Z"
        },
        "id": "oOQiYxBhN8n9",
        "outputId": "8f78e9f2-1263-4b7d-976f-4603cfa346a7",
        "colab": {
          "base_uri": "https://localhost:8080/"
        }
      },
      "outputs": [
        {
          "output_type": "stream",
          "name": "stdout",
          "text": [
            "12\n",
            "3\n",
            "Clear!\n"
          ]
        },
        {
          "output_type": "execute_result",
          "data": {
            "text/plain": [
              "(False, False, True)"
            ]
          },
          "metadata": {},
          "execution_count": 17
        }
      ],
      "source": [
        "# 함수 연산을 중단 시키는 예제\n",
        "def alpha_check(text):\n",
        "    for t in text:\n",
        "        if t.isalpha(): # isalpha() : str타입의 변수가 알파벳으로 구성되어있으면 True, 아니면 False를 반환하는 함수\n",
        "            continue\n",
        "        else:\n",
        "            print(text.index(t)+1)\n",
        "            return False\n",
        "    print(\"Clear!\")\n",
        "    return True\n",
        "\n",
        "text = 'abcdeFgHijk1op'\n",
        "text2 = 'mn2asd'\n",
        "text3 = 'easyupclass'\n",
        "alpha_check(text), alpha_check(text2), alpha_check(text3)"
      ]
    },
    {
      "cell_type": "markdown",
      "metadata": {
        "id": "_0UcypVZN8n9"
      },
      "source": [
        "#### arguments와 keyword arguments\n",
        "    - 인수의 이름을 지정해서 parameter로 전달한다. \n",
        "    - 인수의 위치가 매개변수의 순서와 달라도 가능하다.\n",
        "    - keyword arguments 의 경우 아규먼트로 함수 호출 시 키워드를 작성하여 호출하며 반드시 다른 arguments 뒤에 존재해야 한다.\n"
      ]
    },
    {
      "cell_type": "code",
      "source": [
        "def operation(a=0,b=0,c=0): # a,b,c 는 keyword argument\n",
        "  return a*b+c\n",
        "\n",
        "operation(1,2,3)"
      ],
      "metadata": {
        "colab": {
          "base_uri": "https://localhost:8080/"
        },
        "id": "cpIEBcV06QZk",
        "outputId": "ac049f9c-9ece-4eb4-df90-dbc3f8217ec1"
      },
      "execution_count": 19,
      "outputs": [
        {
          "output_type": "execute_result",
          "data": {
            "text/plain": [
              "5"
            ]
          },
          "metadata": {},
          "execution_count": 19
        }
      ]
    },
    {
      "cell_type": "code",
      "source": [
        "# operation(1,c=33)\n",
        "operation(1,a=2) # 파라미터가 겹칠 가능성도 존재할 때"
      ],
      "metadata": {
        "colab": {
          "base_uri": "https://localhost:8080/",
          "height": 194
        },
        "id": "_Z2qP8Xd6Ub0",
        "outputId": "24e07950-5c04-4e54-e694-2c5aec39cc07"
      },
      "execution_count": 21,
      "outputs": [
        {
          "output_type": "error",
          "ename": "TypeError",
          "evalue": "ignored",
          "traceback": [
            "\u001b[0;31m---------------------------------------------------------------------------\u001b[0m",
            "\u001b[0;31mTypeError\u001b[0m                                 Traceback (most recent call last)",
            "\u001b[0;32m<ipython-input-21-686215009ab5>\u001b[0m in \u001b[0;36m<module>\u001b[0;34m()\u001b[0m\n\u001b[1;32m      1\u001b[0m \u001b[0;31m# operation(1,c=33)\u001b[0m\u001b[0;34m\u001b[0m\u001b[0;34m\u001b[0m\u001b[0;34m\u001b[0m\u001b[0m\n\u001b[0;32m----> 2\u001b[0;31m \u001b[0moperation\u001b[0m\u001b[0;34m(\u001b[0m\u001b[0;36m1\u001b[0m\u001b[0;34m,\u001b[0m\u001b[0ma\u001b[0m\u001b[0;34m=\u001b[0m\u001b[0;36m2\u001b[0m\u001b[0;34m)\u001b[0m \u001b[0;31m# 파라미터가 겹칠 가능성도 존재할 때\u001b[0m\u001b[0;34m\u001b[0m\u001b[0;34m\u001b[0m\u001b[0m\n\u001b[0m",
            "\u001b[0;31mTypeError\u001b[0m: operation() got multiple values for argument 'a'"
          ]
        }
      ]
    },
    {
      "cell_type": "markdown",
      "source": [
        "####  가변 인수\n",
        "  - 함수 선언시 파라미터의 수를 특정할 수 없을 경우 사용\n",
        "  - asterisk(*) 를 사용한다.\n",
        "  - *args는 가변길이 인수를 전달, 튜플 타입\n",
        "  - **kwargs는 키워드 인수를 전달, 딕셔너리 타입\n",
        "  - 가변 인수는 튜플이나 리스트 등으로 for 문으로 사용가능하다."
      ],
      "metadata": {
        "id": "8wYXHZlbCw98"
      }
    },
    {
      "cell_type": "code",
      "execution_count": 23,
      "metadata": {
        "ExecuteTime": {
          "end_time": "2021-01-14T07:55:45.786839Z",
          "start_time": "2021-01-14T07:55:45.772877Z"
        },
        "id": "HzAuxeBgN8n-",
        "outputId": "6b2e3415-1c71-4939-9374-eb80843ff3e8",
        "colab": {
          "base_uri": "https://localhost:8080/"
        }
      },
      "outputs": [
        {
          "output_type": "stream",
          "name": "stdout",
          "text": [
            "<class 'int'> 1\n",
            "<class 'tuple'> (2, 3)\n",
            "<class 'dict'> {'num1': 4, 'num2': 5}\n"
          ]
        },
        {
          "output_type": "execute_result",
          "data": {
            "text/plain": [
              "15"
            ]
          },
          "metadata": {},
          "execution_count": 23
        }
      ],
      "source": [
        "def hap(num,*args, **kwargs):\n",
        "    print(type(num), num)\n",
        "    print(type(args), args)\n",
        "    print(type(kwargs), kwargs)\n",
        "    return num + sum(args) + sum(list(kwargs.values()))\n",
        "\n",
        "# hap(1)\n",
        "hap(1,2,3, num1=4, num2=5)"
      ]
    },
    {
      "cell_type": "markdown",
      "metadata": {
        "id": "8T0LiL8wN8n-"
      },
      "source": [
        "##### list타입 데이터를 args로 호출하는 방법"
      ]
    },
    {
      "cell_type": "code",
      "execution_count": 25,
      "metadata": {
        "ExecuteTime": {
          "end_time": "2021-01-14T08:00:46.555471Z",
          "start_time": "2021-01-14T08:00:46.540484Z"
        },
        "id": "B8HIHvbLN8n-",
        "outputId": "16fc4a7f-23fb-43b0-c514-8c87d93ae7ee",
        "colab": {
          "base_uri": "https://localhost:8080/"
        }
      },
      "outputs": [
        {
          "output_type": "execute_result",
          "data": {
            "text/plain": [
              "32"
            ]
          },
          "metadata": {},
          "execution_count": 25
        }
      ],
      "source": [
        "def multiply(n1, n2, n3):\n",
        "    return n1 * n2 ** n3\n",
        "\n",
        "ls = [2, 2, 4]\n",
        "\n",
        "multiply(*ls) # list 타입 데이터를 함수에 선언한 파라미터에 각각 대입"
      ]
    },
    {
      "cell_type": "code",
      "execution_count": 26,
      "metadata": {
        "ExecuteTime": {
          "end_time": "2021-01-14T08:00:49.412135Z",
          "start_time": "2021-01-14T08:00:49.392159Z"
        },
        "id": "NFo3BbyyN8n_",
        "outputId": "b26ed287-2ac6-4943-b3e8-036e1f79887a",
        "colab": {
          "base_uri": "https://localhost:8080/",
          "height": 194
        }
      },
      "outputs": [
        {
          "output_type": "error",
          "ename": "TypeError",
          "evalue": "ignored",
          "traceback": [
            "\u001b[0;31m---------------------------------------------------------------------------\u001b[0m",
            "\u001b[0;31mTypeError\u001b[0m                                 Traceback (most recent call last)",
            "\u001b[0;32m<ipython-input-26-4f1723d92400>\u001b[0m in \u001b[0;36m<module>\u001b[0;34m()\u001b[0m\n\u001b[1;32m      1\u001b[0m \u001b[0mls2\u001b[0m \u001b[0;34m=\u001b[0m \u001b[0;34m[\u001b[0m\u001b[0;36m2\u001b[0m\u001b[0;34m,\u001b[0m \u001b[0;36m3\u001b[0m\u001b[0;34m,\u001b[0m \u001b[0;36m4\u001b[0m\u001b[0;34m,\u001b[0m \u001b[0;36m5\u001b[0m\u001b[0;34m]\u001b[0m\u001b[0;34m\u001b[0m\u001b[0;34m\u001b[0m\u001b[0m\n\u001b[0;32m----> 2\u001b[0;31m \u001b[0mmultiply\u001b[0m\u001b[0;34m(\u001b[0m\u001b[0;34m*\u001b[0m\u001b[0mls2\u001b[0m\u001b[0;34m)\u001b[0m \u001b[0;31m# 함수 선언시 *args로 선언하지 않고 파라미터의 개수가 맞지 않아서 오류 발생\u001b[0m\u001b[0;34m\u001b[0m\u001b[0;34m\u001b[0m\u001b[0m\n\u001b[0m",
            "\u001b[0;31mTypeError\u001b[0m: multiply() takes 3 positional arguments but 4 were given"
          ]
        }
      ],
      "source": [
        "ls2 = [2, 3, 4, 5]\n",
        "multiply(*ls2) # 함수 선언시 *args로 선언하지 않고 파라미터의 개수가 맞지 않아서 오류 발생"
      ]
    },
    {
      "cell_type": "code",
      "execution_count": null,
      "metadata": {
        "ExecuteTime": {
          "end_time": "2021-01-14T08:08:28.513837Z",
          "start_time": "2021-01-14T08:08:28.493855Z"
        },
        "id": "rjqqe2BON8n_"
      },
      "outputs": [],
      "source": [
        "def hap2(*args):\n",
        "    return sum(args)\n",
        "\n",
        "ls3 = [1, 2, 3]\n",
        "hap2(ls3) # 호출하는 argument 타입이 직접 입력이 아닌 경우에도 에러가 발생"
      ]
    },
    {
      "cell_type": "code",
      "execution_count": 28,
      "metadata": {
        "ExecuteTime": {
          "end_time": "2021-01-14T08:08:36.928806Z",
          "start_time": "2021-01-14T08:08:36.921853Z"
        },
        "id": "BFV2H15wN8n_",
        "outputId": "b49fb768-b3e7-4f5d-a94d-82c4734bf99c",
        "colab": {
          "base_uri": "https://localhost:8080/"
        }
      },
      "outputs": [
        {
          "output_type": "execute_result",
          "data": {
            "text/plain": [
              "(6, 6)"
            ]
          },
          "metadata": {},
          "execution_count": 28
        }
      ],
      "source": [
        "hap2(1, 2, 3), hap2(*ls3)"
      ]
    },
    {
      "cell_type": "code",
      "source": [
        ""
      ],
      "metadata": {
        "id": "wTDFrE2P4-3r"
      },
      "execution_count": null,
      "outputs": []
    }
  ],
  "metadata": {
    "hide_input": false,
    "kernelspec": {
      "display_name": "Python 3",
      "language": "python",
      "name": "python3"
    },
    "language_info": {
      "codemirror_mode": {
        "name": "ipython",
        "version": 3
      },
      "file_extension": ".py",
      "mimetype": "text/x-python",
      "name": "python",
      "nbconvert_exporter": "python",
      "pygments_lexer": "ipython3",
      "version": "3.8.5"
    },
    "toc": {
      "base_numbering": 1,
      "nav_menu": {},
      "number_sections": true,
      "sideBar": true,
      "skip_h1_title": false,
      "title_cell": "Table of Contents",
      "title_sidebar": "Contents",
      "toc_cell": false,
      "toc_position": {
        "height": "calc(100% - 180px)",
        "left": "10px",
        "top": "150px",
        "width": "384px"
      },
      "toc_section_display": true,
      "toc_window_display": true
    },
    "varInspector": {
      "cols": {
        "lenName": 16,
        "lenType": 16,
        "lenVar": 40
      },
      "kernels_config": {
        "python": {
          "delete_cmd_postfix": "",
          "delete_cmd_prefix": "del ",
          "library": "var_list.py",
          "varRefreshCmd": "print(var_dic_list())"
        },
        "r": {
          "delete_cmd_postfix": ") ",
          "delete_cmd_prefix": "rm(",
          "library": "var_list.r",
          "varRefreshCmd": "cat(var_dic_list()) "
        }
      },
      "types_to_exclude": [
        "module",
        "function",
        "builtin_function_or_method",
        "instance",
        "_Feature"
      ],
      "window_display": false
    },
    "colab": {
      "name": "Class prep. # 09. function1 - 선언, 호출, return, param, args, kwargs.ipynb",
      "provenance": [],
      "collapsed_sections": [],
      "include_colab_link": true
    }
  },
  "nbformat": 4,
  "nbformat_minor": 0
}