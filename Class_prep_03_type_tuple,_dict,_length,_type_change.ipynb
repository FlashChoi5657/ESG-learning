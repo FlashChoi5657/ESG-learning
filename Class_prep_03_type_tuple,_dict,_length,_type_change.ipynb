{
  "cells": [
    {
      "cell_type": "markdown",
      "metadata": {
        "id": "view-in-github",
        "colab_type": "text"
      },
      "source": [
        "<a href=\"https://colab.research.google.com/github/FlashChoi5657/iTshirt/blob/main/Class_prep_03_type_tuple%2C_dict%2C_length%2C_type_change.ipynb\" target=\"_parent\"><img src=\"https://colab.research.google.com/assets/colab-badge.svg\" alt=\"Open In Colab\"/></a>"
      ]
    },
    {
      "cell_type": "markdown",
      "metadata": {
        "id": "kND5KT1FAJoE"
      },
      "source": [
        "### Tuple Function\n",
        "    list보다 같은 데이터를 가졌을 때 공간을 적게 사용"
      ]
    },
    {
      "cell_type": "code",
      "execution_count": 1,
      "metadata": {
        "ExecuteTime": {
          "end_time": "2021-01-13T06:38:13.987422Z",
          "start_time": "2021-01-13T06:38:13.974458Z"
        },
        "id": "BQlcJ4z1AJoI",
        "outputId": "86af47e2-ebc3-463e-ec41-ef069ccc76fb",
        "colab": {
          "base_uri": "https://localhost:8080/"
        }
      },
      "outputs": [
        {
          "output_type": "execute_result",
          "data": {
            "text/plain": [
              "(tuple, tuple, (1, 2, 3), (4, 5, 6))"
            ]
          },
          "metadata": {},
          "execution_count": 1
        }
      ],
      "source": [
        "tp1 = 1, 2, 3\n",
        "tp2 = (4, 5, 6)\n",
        "type(tp1), type(tp2), tp1, tp2"
      ]
    },
    {
      "cell_type": "code",
      "execution_count": 2,
      "metadata": {
        "ExecuteTime": {
          "end_time": "2021-01-13T06:38:53.497181Z",
          "start_time": "2021-01-13T06:38:53.489174Z"
        },
        "id": "mNvQrdfIAJoJ",
        "outputId": "f571d453-dff9-4f9a-dc5d-8d88351fd8dc",
        "colab": {
          "base_uri": "https://localhost:8080/"
        }
      },
      "outputs": [
        {
          "output_type": "execute_result",
          "data": {
            "text/plain": [
              "(10, 20)"
            ]
          },
          "metadata": {},
          "execution_count": 2
        }
      ],
      "source": [
        "a, b = 10, 20 # a=10, b=20\n",
        "a, b"
      ]
    },
    {
      "cell_type": "markdown",
      "metadata": {
        "id": "rZeYFb7TAJoK"
      },
      "source": [
        "#### tuple도 list와 마찬가지로 offset index 사용 가능"
      ]
    },
    {
      "cell_type": "code",
      "execution_count": null,
      "metadata": {
        "ExecuteTime": {
          "end_time": "2021-01-13T06:39:47.800519Z",
          "start_time": "2021-01-13T06:39:47.795550Z"
        },
        "id": "O-sT1h1XAJoK",
        "outputId": "e5b8bcee-9216-4de6-f773-77326f9005be"
      },
      "outputs": [
        {
          "data": {
            "text/plain": [
              "(1, (6, 5, 4))"
            ]
          },
          "execution_count": 6,
          "metadata": {},
          "output_type": "execute_result"
        }
      ],
      "source": [
        "tp1[0], tp2[::-1]"
      ]
    },
    {
      "cell_type": "markdown",
      "metadata": {
        "id": "cjtZOs6iAJoL"
      },
      "source": [
        "#### list와 tuple의 저장공간 비교"
      ]
    },
    {
      "cell_type": "code",
      "execution_count": 3,
      "metadata": {
        "ExecuteTime": {
          "end_time": "2021-01-13T06:40:48.131568Z",
          "start_time": "2021-01-13T06:40:48.121567Z"
        },
        "id": "qUmwO8zJAJoL",
        "outputId": "e5f035a3-9a3c-4feb-d224-737cdb812238",
        "colab": {
          "base_uri": "https://localhost:8080/"
        }
      },
      "outputs": [
        {
          "output_type": "stream",
          "name": "stdout",
          "text": [
            "96 80\n"
          ]
        }
      ],
      "source": [
        "import sys\n",
        "\n",
        "ls = [1, 2, 3]\n",
        "tp = (1, 2, 3)\n",
        "print(sys.getsizeof(ls), sys.getsizeof(tp))"
      ]
    },
    {
      "cell_type": "markdown",
      "metadata": {
        "id": "smpDUOpZAJoM"
      },
      "source": [
        "#### tuple의 활용 예시\n",
        "    절대로 변경이 되어선 안되는 데이터를 작성하는 경우"
      ]
    },
    {
      "cell_type": "code",
      "execution_count": 4,
      "metadata": {
        "ExecuteTime": {
          "end_time": "2021-01-14T00:31:55.536052Z",
          "start_time": "2021-01-14T00:31:55.529057Z"
        },
        "id": "sFHkcyTWAJoM",
        "outputId": "fa6f575c-d90c-4c06-db09-7e1e01086c87",
        "colab": {
          "base_uri": "https://localhost:8080/"
        }
      },
      "outputs": [
        {
          "output_type": "stream",
          "name": "stdout",
          "text": [
            "<class 'tuple'> (0, 0.003)\n",
            "<class 'tuple'> (100000, (0, 0.003))\n",
            "300.0\n"
          ]
        }
      ],
      "source": [
        "# 카드 포인트 적립\n",
        "rate = (0, 0.003)\n",
        "print(type(rate), rate)\n",
        "card = 100_000  # 100,000\n",
        "point = (card, rate)\n",
        "print(type(point), point)\n",
        "\n",
        "point_combi = point[0] * point[1][1]\n",
        "print(point_combi)\n"
      ]
    },
    {
      "cell_type": "markdown",
      "metadata": {
        "id": "vVOqXb6vAJoN"
      },
      "source": [
        "### Dictionary(dict)\n",
        "    순서가 없고 {키:값}으로 구성되어 있는 데이터 타입"
      ]
    },
    {
      "cell_type": "code",
      "execution_count": 5,
      "metadata": {
        "ExecuteTime": {
          "end_time": "2021-01-13T06:43:07.807143Z",
          "start_time": "2021-01-13T06:43:07.789191Z"
        },
        "id": "JdYyuWhGAJoN",
        "outputId": "cbfa5543-a5c5-413d-f066-9c5cd8fe7129",
        "colab": {
          "base_uri": "https://localhost:8080/"
        }
      },
      "outputs": [
        {
          "output_type": "execute_result",
          "data": {
            "text/plain": [
              "(dict, {1: '첫번째', 3: [3, 4, 5], 'key': 'value', 'second': 2})"
            ]
          },
          "metadata": {},
          "execution_count": 5
        }
      ],
      "source": [
        "dic = {\n",
        "    \"training data\":\"data\",\n",
        "    1 : \"첫번째\",\n",
        "    \"second\" : 2,\n",
        "    3 : [3, 4, 5]\n",
        "}\n",
        "type(dic), dic"
      ]
    },
    {
      "cell_type": "code",
      "execution_count": 6,
      "metadata": {
        "ExecuteTime": {
          "end_time": "2021-01-14T00:33:49.562963Z",
          "start_time": "2021-01-14T00:33:49.555982Z"
        },
        "colab": {
          "base_uri": "https://localhost:8080/"
        },
        "id": "C5qPSd9iAJoO",
        "outputId": "e16a1542-4f3a-4dc4-dfb2-d4c2a3d2c402"
      },
      "outputs": [
        {
          "output_type": "execute_result",
          "data": {
            "text/plain": [
              "{'DEEP:PHI': 'https://www.deepphi.ai/home',\n",
              " 'deepnoid': 'https://www.deepnoid.com/'}"
            ]
          },
          "metadata": {},
          "execution_count": 6
        }
      ],
      "source": [
        "# key와 value를 하나씩 직접 입력하여 작성하는 방법\n",
        "dic2 = {}\n",
        "dic2['DEEP:PHI'] = 'https://www.deepphi.ai/home'\n",
        "dic2['deepnoid'] = 'https://www.deepnoid.com/'\n",
        "dic2"
      ]
    },
    {
      "cell_type": "markdown",
      "metadata": {
        "id": "qVZOMVV4AJoO"
      },
      "source": [
        "#### dict 출력방법\n",
        "    dict[key값]"
      ]
    },
    {
      "cell_type": "code",
      "execution_count": 7,
      "metadata": {
        "ExecuteTime": {
          "end_time": "2021-01-13T06:43:21.046930Z",
          "start_time": "2021-01-13T06:43:21.030974Z"
        },
        "id": "6tz2uIcHAJoO",
        "outputId": "8fcec4c0-2369-46d6-acd8-7ce79470e4c9",
        "colab": {
          "base_uri": "https://localhost:8080/"
        }
      },
      "outputs": [
        {
          "output_type": "execute_result",
          "data": {
            "text/plain": [
              "('첫번째', 2)"
            ]
          },
          "metadata": {},
          "execution_count": 7
        }
      ],
      "source": [
        "dic[1], dic[\"second\"]"
      ]
    },
    {
      "cell_type": "code",
      "execution_count": 8,
      "metadata": {
        "ExecuteTime": {
          "end_time": "2021-01-13T06:43:55.713495Z",
          "start_time": "2021-01-13T06:43:55.692551Z"
        },
        "id": "a6lb0u0XAJoP",
        "outputId": "eb1ec7bc-f340-45ed-eaa2-22a7cdf1d76d",
        "colab": {
          "base_uri": "https://localhost:8080/",
          "height": 176
        }
      },
      "outputs": [
        {
          "output_type": "error",
          "ename": "KeyError",
          "evalue": "ignored",
          "traceback": [
            "\u001b[0;31m---------------------------------------------------------------------------\u001b[0m",
            "\u001b[0;31mKeyError\u001b[0m                                  Traceback (most recent call last)",
            "\u001b[0;32m<ipython-input-8-81d649b08667>\u001b[0m in \u001b[0;36m<module>\u001b[0;34m()\u001b[0m\n\u001b[0;32m----> 1\u001b[0;31m \u001b[0mdic\u001b[0m\u001b[0;34m[\u001b[0m\u001b[0;36m0\u001b[0m\u001b[0;34m]\u001b[0m \u001b[0;31m# 순서가 없는 데이터 타입이므로 index를 사용할 수 없음\u001b[0m\u001b[0;34m\u001b[0m\u001b[0;34m\u001b[0m\u001b[0m\n\u001b[0m",
            "\u001b[0;31mKeyError\u001b[0m: 0"
          ]
        }
      ],
      "source": [
        "dic[0] # 순서가 없는 데이터 타입이므로 index를 사용할 수 없음"
      ]
    },
    {
      "cell_type": "markdown",
      "metadata": {
        "id": "h-1XJqHKAJoP"
      },
      "source": [
        "#### dict형 데이터 타입 key, value값 확인\n",
        "    keys() : key값을 확인\n",
        "    values() : value값을 확인\n",
        "        각각 리스트 타입으로 출력\n",
        "    items() : key, value의 쌍으로 출력\n",
        "        쌍을 이루고 수정이 불가능하므로 튜플 타입으로 출력\n",
        "        \n",
        "    ※ 주의 : 출력이 각각 list, tuple 타입으로 나타나지만 본래 데이터는 dict 타입이므로 순서가 없음\n",
        "            즉, offset index를 사용할 수 없다!"
      ]
    },
    {
      "cell_type": "code",
      "execution_count": 9,
      "metadata": {
        "ExecuteTime": {
          "end_time": "2021-01-13T06:46:00.176817Z",
          "start_time": "2021-01-13T06:46:00.164849Z"
        },
        "id": "m3eF6K7BAJoP",
        "outputId": "47884968-e03e-4299-fa6c-c7a822f51430",
        "colab": {
          "base_uri": "https://localhost:8080/"
        }
      },
      "outputs": [
        {
          "output_type": "execute_result",
          "data": {
            "text/plain": [
              "(dict_keys(['key', 1, 'second', 3]),\n",
              " dict_values(['value', '첫번째', 2, [3, 4, 5]]),\n",
              " dict_items([('key', 'value'), (1, '첫번째'), ('second', 2), (3, [3, 4, 5])]))"
            ]
          },
          "metadata": {},
          "execution_count": 9
        }
      ],
      "source": [
        "dic.keys(), dic.values(), dic.items()"
      ]
    },
    {
      "cell_type": "code",
      "execution_count": 10,
      "metadata": {
        "ExecuteTime": {
          "end_time": "2021-01-13T06:47:16.403443Z",
          "start_time": "2021-01-13T06:47:16.395435Z"
        },
        "id": "GtakXQMKAJoQ",
        "outputId": "65f4fbf1-5f72-4fa7-987b-18e8ae2ac8af",
        "colab": {
          "base_uri": "https://localhost:8080/"
        }
      },
      "outputs": [
        {
          "output_type": "stream",
          "name": "stdout",
          "text": [
            "key\n",
            "1\n",
            "second\n",
            "3\n"
          ]
        }
      ],
      "source": [
        "for key in dic.keys():\n",
        "    print(key)"
      ]
    },
    {
      "cell_type": "code",
      "execution_count": 11,
      "metadata": {
        "ExecuteTime": {
          "end_time": "2021-01-13T06:47:36.222210Z",
          "start_time": "2021-01-13T06:47:36.213233Z"
        },
        "id": "nkAHOtZeAJoQ",
        "outputId": "224b4cd3-b9fd-4665-cd44-838c99132544",
        "colab": {
          "base_uri": "https://localhost:8080/"
        }
      },
      "outputs": [
        {
          "output_type": "stream",
          "name": "stdout",
          "text": [
            "('key', 'value')\n",
            "(1, '첫번째')\n",
            "('second', 2)\n",
            "(3, [3, 4, 5])\n"
          ]
        }
      ],
      "source": [
        "for items in dic.items():\n",
        "    print(items)"
      ]
    },
    {
      "cell_type": "markdown",
      "metadata": {
        "id": "bYNGuylsAJoQ"
      },
      "source": [
        "### length 구하기\n",
        "    문자열, list, tuple, dict 타입의 경우 데이터의 길이(혹은 갯수)를 셀 수 있음\n",
        "```python\n",
        "len(구하고자 하는 데이터타입)\n",
        "```"
      ]
    },
    {
      "cell_type": "code",
      "execution_count": 12,
      "metadata": {
        "ExecuteTime": {
          "end_time": "2021-01-14T01:50:36.157047Z",
          "start_time": "2021-01-14T01:50:36.150066Z"
        },
        "id": "Vx6A5MDCAJoR",
        "outputId": "4b8c94d7-f1d7-4c99-b2a1-e4afd470f6a6",
        "colab": {
          "base_uri": "https://localhost:8080/"
        }
      },
      "outputs": [
        {
          "output_type": "execute_result",
          "data": {
            "text/plain": [
              "12"
            ]
          },
          "metadata": {},
          "execution_count": 12
        }
      ],
      "source": [
        "# string type\n",
        "text = \"hello python\"\n",
        "len(text) # 공백을 포함한 길이"
      ]
    },
    {
      "cell_type": "code",
      "execution_count": 13,
      "metadata": {
        "ExecuteTime": {
          "end_time": "2021-01-14T01:50:50.044042Z",
          "start_time": "2021-01-14T01:50:50.027063Z"
        },
        "id": "SckC1zz-AJoR",
        "outputId": "0df50d01-e9e0-46dd-a09e-2c59271ceed2",
        "colab": {
          "base_uri": "https://localhost:8080/"
        }
      },
      "outputs": [
        {
          "output_type": "execute_result",
          "data": {
            "text/plain": [
              "5"
            ]
          },
          "metadata": {},
          "execution_count": 13
        }
      ],
      "source": [
        "# list type\n",
        "ls = [1, 2, 3, 4, 5]\n",
        "len(ls)"
      ]
    },
    {
      "cell_type": "code",
      "execution_count": 14,
      "metadata": {
        "ExecuteTime": {
          "end_time": "2021-01-14T01:51:14.077615Z",
          "start_time": "2021-01-14T01:51:14.058673Z"
        },
        "id": "e4hgq40VAJoR",
        "outputId": "c869a81d-10d7-4639-f999-b23eb76341da",
        "colab": {
          "base_uri": "https://localhost:8080/"
        }
      },
      "outputs": [
        {
          "output_type": "execute_result",
          "data": {
            "text/plain": [
              "4"
            ]
          },
          "metadata": {},
          "execution_count": 14
        }
      ],
      "source": [
        "# tuple type\n",
        "tp = (10, 20, 30, 40)\n",
        "len(tp)"
      ]
    },
    {
      "cell_type": "code",
      "execution_count": 15,
      "metadata": {
        "ExecuteTime": {
          "end_time": "2021-01-14T01:51:51.438037Z",
          "start_time": "2021-01-14T01:51:51.419908Z"
        },
        "id": "oROapYFhAJoR",
        "outputId": "d857530b-3f04-4c12-9016-ec73af49a0f6",
        "colab": {
          "base_uri": "https://localhost:8080/"
        }
      },
      "outputs": [
        {
          "output_type": "execute_result",
          "data": {
            "text/plain": [
              "3"
            ]
          },
          "metadata": {},
          "execution_count": 15
        }
      ],
      "source": [
        "# dict type도 가능할까?\n",
        "dic = { 0:\"kim\", 1:\"python\", 2:\"data\"}\n",
        "len(dic)"
      ]
    },
    {
      "cell_type": "code",
      "execution_count": 16,
      "metadata": {
        "ExecuteTime": {
          "end_time": "2021-01-14T01:52:23.160517Z",
          "start_time": "2021-01-14T01:52:22.990481Z"
        },
        "id": "iEy2RbeAAJoS",
        "outputId": "c7767ce9-17db-4be2-ba60-b1d9290db38d",
        "colab": {
          "base_uri": "https://localhost:8080/",
          "height": 213
        }
      },
      "outputs": [
        {
          "output_type": "error",
          "ename": "TypeError",
          "evalue": "ignored",
          "traceback": [
            "\u001b[0;31m---------------------------------------------------------------------------\u001b[0m",
            "\u001b[0;31mTypeError\u001b[0m                                 Traceback (most recent call last)",
            "\u001b[0;32m<ipython-input-16-285aa3493528>\u001b[0m in \u001b[0;36m<module>\u001b[0;34m()\u001b[0m\n\u001b[1;32m      1\u001b[0m \u001b[0;31m# 숫자형은 안되요!\u001b[0m\u001b[0;34m\u001b[0m\u001b[0;34m\u001b[0m\u001b[0;34m\u001b[0m\u001b[0m\n\u001b[1;32m      2\u001b[0m \u001b[0mnb\u001b[0m \u001b[0;34m=\u001b[0m \u001b[0;36m123\u001b[0m\u001b[0;34m\u001b[0m\u001b[0;34m\u001b[0m\u001b[0m\n\u001b[0;32m----> 3\u001b[0;31m \u001b[0mlen\u001b[0m\u001b[0;34m(\u001b[0m\u001b[0mnb\u001b[0m\u001b[0;34m)\u001b[0m\u001b[0;34m\u001b[0m\u001b[0;34m\u001b[0m\u001b[0m\n\u001b[0m",
            "\u001b[0;31mTypeError\u001b[0m: object of type 'int' has no len()"
          ]
        }
      ],
      "source": [
        "# 숫자형은 안되요!\n",
        "nb = 123\n",
        "len(nb)"
      ]
    },
    {
      "cell_type": "markdown",
      "metadata": {
        "id": "J1NxGoVYAJoS"
      },
      "source": [
        "### Type change\n",
        "    - 데이터 타입을 변환하는 방법\n",
        "    - 형태의 종류\n",
        "        int, float, bool, str, list, tuple, dict"
      ]
    },
    {
      "cell_type": "code",
      "execution_count": 17,
      "metadata": {
        "ExecuteTime": {
          "end_time": "2021-01-13T06:56:29.083943Z",
          "start_time": "2021-01-13T06:56:29.067986Z"
        },
        "id": "wGH56GetAJoS",
        "outputId": "0ad40fb6-da1f-40e0-c033-b9f4c8cd603e",
        "colab": {
          "base_uri": "https://localhost:8080/"
        }
      },
      "outputs": [
        {
          "output_type": "execute_result",
          "data": {
            "text/plain": [
              "dict_values"
            ]
          },
          "metadata": {},
          "execution_count": 17
        }
      ],
      "source": [
        "type(dic.values())"
      ]
    },
    {
      "cell_type": "code",
      "execution_count": 18,
      "metadata": {
        "ExecuteTime": {
          "end_time": "2021-01-13T06:56:41.846256Z",
          "start_time": "2021-01-13T06:56:41.837273Z"
        },
        "id": "zWRWT2IuAJoS",
        "outputId": "899df506-1cee-4301-e51e-7c9a042d8c3e",
        "colab": {
          "base_uri": "https://localhost:8080/"
        }
      },
      "outputs": [
        {
          "output_type": "execute_result",
          "data": {
            "text/plain": [
              "list"
            ]
          },
          "metadata": {},
          "execution_count": 18
        }
      ],
      "source": [
        "type(list(dic.values()))"
      ]
    },
    {
      "cell_type": "code",
      "execution_count": 19,
      "metadata": {
        "ExecuteTime": {
          "end_time": "2021-01-13T06:57:03.380246Z",
          "start_time": "2021-01-13T06:57:03.372295Z"
        },
        "id": "J4z83BX0AJoS",
        "outputId": "7d43aa61-26d9-4b73-b256-5d287e2d7b57",
        "colab": {
          "base_uri": "https://localhost:8080/",
          "height": 36
        }
      },
      "outputs": [
        {
          "output_type": "execute_result",
          "data": {
            "text/plain": [
              "'kim'"
            ],
            "application/vnd.google.colaboratory.intrinsic+json": {
              "type": "string"
            }
          },
          "metadata": {},
          "execution_count": 19
        }
      ],
      "source": [
        "dic_list = list(dic.values())\n",
        "dic_list[0]"
      ]
    },
    {
      "cell_type": "code",
      "source": [
        "a=1 # int\n",
        "print(type(a),a)\n",
        "b=float(a)\n",
        "print(type(b),b)\n",
        "c=str(b)\n",
        "print(type(c),c)"
      ],
      "metadata": {
        "colab": {
          "base_uri": "https://localhost:8080/"
        },
        "id": "xgS_6BUNBTs4",
        "outputId": "e18e6f19-713c-4249-ac05-39c7c09994b7"
      },
      "execution_count": 20,
      "outputs": [
        {
          "output_type": "stream",
          "name": "stdout",
          "text": [
            "<class 'int'> 1\n",
            "<class 'float'> 1.0\n",
            "<class 'str'> 1.0\n"
          ]
        }
      ]
    },
    {
      "cell_type": "markdown",
      "metadata": {
        "id": "2ELK-nhMAJoS"
      },
      "source": [
        "#### list -> dict로 만들기\n",
        "    zip : 같은 index끼리 묶어주는 함수"
      ]
    },
    {
      "cell_type": "code",
      "execution_count": 26,
      "metadata": {
        "ExecuteTime": {
          "end_time": "2021-01-13T06:59:42.153326Z",
          "start_time": "2021-01-13T06:59:42.137340Z"
        },
        "id": "Dhc9q6TzAJoT"
      },
      "outputs": [],
      "source": [
        "classes = ['Supervised learning','Unsupervised learning', 'Reinforcement learning']\n",
        "subject = ['classification', 'clustering', 'game AI']\n",
        "dic = dict(zip(classes, subject))"
      ]
    },
    {
      "cell_type": "code",
      "execution_count": 27,
      "metadata": {
        "ExecuteTime": {
          "end_time": "2021-01-13T06:59:56.226860Z",
          "start_time": "2021-01-13T06:59:56.214897Z"
        },
        "scrolled": true,
        "id": "I_ilgOZdAJoT",
        "outputId": "125174a2-1b4f-40cf-ac6c-a3de299ecce3",
        "colab": {
          "base_uri": "https://localhost:8080/"
        }
      },
      "outputs": [
        {
          "output_type": "execute_result",
          "data": {
            "text/plain": [
              "dict"
            ]
          },
          "metadata": {},
          "execution_count": 27
        }
      ],
      "source": [
        "dict(zip(classes, subject))\n",
        "type(dic)"
      ]
    },
    {
      "cell_type": "code",
      "source": [
        "dic"
      ],
      "metadata": {
        "id": "CsZqSJTmlZSP",
        "colab": {
          "base_uri": "https://localhost:8080/"
        },
        "outputId": "ab09aaf2-4020-42e0-e51f-43fc11445f84"
      },
      "execution_count": 28,
      "outputs": [
        {
          "output_type": "execute_result",
          "data": {
            "text/plain": [
              "{'Reinforcement learning': 'game AI',\n",
              " 'Supervised learning': 'classification',\n",
              " 'Unsupervised learning': 'clustering'}"
            ]
          },
          "metadata": {},
          "execution_count": 28
        }
      ]
    },
    {
      "cell_type": "code",
      "source": [
        ""
      ],
      "metadata": {
        "id": "YJfBn_yfBLD4"
      },
      "execution_count": null,
      "outputs": []
    }
  ],
  "metadata": {
    "hide_input": false,
    "kernelspec": {
      "display_name": "Python 3",
      "language": "python",
      "name": "python3"
    },
    "language_info": {
      "codemirror_mode": {
        "name": "ipython",
        "version": 3
      },
      "file_extension": ".py",
      "mimetype": "text/x-python",
      "name": "python",
      "nbconvert_exporter": "python",
      "pygments_lexer": "ipython3",
      "version": "3.8.5"
    },
    "toc": {
      "base_numbering": 1,
      "nav_menu": {},
      "number_sections": true,
      "sideBar": true,
      "skip_h1_title": false,
      "title_cell": "Table of Contents",
      "title_sidebar": "Contents",
      "toc_cell": false,
      "toc_position": {},
      "toc_section_display": true,
      "toc_window_display": false
    },
    "varInspector": {
      "cols": {
        "lenName": 16,
        "lenType": 16,
        "lenVar": 40
      },
      "kernels_config": {
        "python": {
          "delete_cmd_postfix": "",
          "delete_cmd_prefix": "del ",
          "library": "var_list.py",
          "varRefreshCmd": "print(var_dic_list())"
        },
        "r": {
          "delete_cmd_postfix": ") ",
          "delete_cmd_prefix": "rm(",
          "library": "var_list.r",
          "varRefreshCmd": "cat(var_dic_list()) "
        }
      },
      "types_to_exclude": [
        "module",
        "function",
        "builtin_function_or_method",
        "instance",
        "_Feature"
      ],
      "window_display": false
    },
    "colab": {
      "name": "Class prep. # 03. type - tuple, dict, length, type change.ipynb",
      "provenance": [],
      "collapsed_sections": [],
      "include_colab_link": true
    }
  },
  "nbformat": 4,
  "nbformat_minor": 0
}