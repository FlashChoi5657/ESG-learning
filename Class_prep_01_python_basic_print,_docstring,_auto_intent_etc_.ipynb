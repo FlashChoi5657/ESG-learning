{
  "cells": [
    {
      "cell_type": "markdown",
      "metadata": {
        "id": "view-in-github",
        "colab_type": "text"
      },
      "source": [
        "<a href=\"https://colab.research.google.com/github/FlashChoi5657/iTshirt/blob/main/Class_prep_01_python_basic_print%2C_docstring%2C_auto_intent_etc_.ipynb\" target=\"_parent\"><img src=\"https://colab.research.google.com/assets/colab-badge.svg\" alt=\"Open In Colab\"/></a>"
      ]
    },
    {
      "cell_type": "markdown",
      "metadata": {
        "id": "12ubRZSy3c1l"
      },
      "source": [
        "## 환경구성\n",
        "    Anaconda 환경\n",
        "    jupyter notebook"
      ]
    },
    {
      "cell_type": "markdown",
      "metadata": {
        "id": "cQZqVkiW3c1n"
      },
      "source": [
        "### Jupyter notebook \n",
        "    mode\n",
        "        - 명령모드(esc)\n",
        "        - 편집모드(셀 선택 후 enter)\n",
        "\n",
        "        - 셀이 편집 가능합니다."
      ]
    },
    {
      "cell_type": "markdown",
      "metadata": {
        "id": "UHOZUDl33c1p"
      },
      "source": [
        "    Style\n",
        "        - markdown\n",
        "        - code"
      ]
    },
    {
      "cell_type": "code",
      "source": [
        ""
      ],
      "metadata": {
        "id": "p1nqyfCh05bS"
      },
      "execution_count": null,
      "outputs": []
    },
    {
      "cell_type": "markdown",
      "metadata": {
        "id": "e_bhLlGn3c1q"
      },
      "source": [
        "    \n",
        "    단축키\n",
        "        - shift+enter : 아래 셀로 내려가면서 실행\n",
        "        - ctrl+enter : 현재 셀에 머무르면서 실행      \n",
        "        - Ctrl + M D : 셀 삭제\n",
        "        - a : 현재 선택된 셀 위에 새로운 셀 생성\n",
        "        - b : 현재 선택된 셀 아래에 새로운 셀 생성\n",
        "        - z : Undo\n",
        "        - spacebar : 현재 화면을 위로 올림"
      ]
    },
    {
      "cell_type": "code",
      "source": [
        ""
      ],
      "metadata": {
        "id": "mNwehGh404fC"
      },
      "execution_count": null,
      "outputs": []
    },
    {
      "cell_type": "markdown",
      "source": [
        "#### magic command\n",
        "    - % : 한 줄의 magic command를 동작\n",
        "    - %% : 셀 단위의 magic command를 동작\n",
        "    - 주요 magic command\n",
        "        %pwd : 현재 jupyter notebook 파일의 경로\n",
        "        %ls : 현재 디렉토리의 파일 리스트 출력\n",
        "        %whos : 현재 선언된 변수들을 출력\n",
        "        %reset : 현재 선언된 변수들을 전부 삭제"
      ],
      "metadata": {
        "id": "jCxmtVzdeMBt"
      }
    },
    {
      "cell_type": "code",
      "source": [
        "%pwd\n",
        "%ls\n",
        "%whos"
      ],
      "metadata": {
        "colab": {
          "base_uri": "https://localhost:8080/"
        },
        "id": "zkUH_s6feOB9",
        "outputId": "a1bf2ebf-5042-4914-bb84-51ca58d6d7d0"
      },
      "execution_count": 1,
      "outputs": [
        {
          "output_type": "stream",
          "name": "stdout",
          "text": [
            "\u001b[0m\u001b[01;34msample_data\u001b[0m/\n",
            "Interactive namespace is empty.\n"
          ]
        }
      ]
    },
    {
      "cell_type": "markdown",
      "metadata": {
        "id": "pIeyCIVo3c1r"
      },
      "source": [
        "#### shell command\n",
        "    - jupyter notebook을 실행한 shell 환경의 명령을 사용\n",
        "    - 명령어 앞에 !를 붙여서 실행    "
      ]
    },
    {
      "cell_type": "code",
      "source": [
        "!pip install SimpleITK"
      ],
      "metadata": {
        "colab": {
          "base_uri": "https://localhost:8080/"
        },
        "id": "erxaKqWT35FZ",
        "outputId": "80c7ad5a-f591-48ce-8cd6-88091153b52f"
      },
      "execution_count": 2,
      "outputs": [
        {
          "output_type": "stream",
          "name": "stdout",
          "text": [
            "Looking in indexes: https://pypi.org/simple, https://us-python.pkg.dev/colab-wheels/public/simple/\n",
            "Collecting SimpleITK\n",
            "  Downloading SimpleITK-2.1.1.2-cp37-cp37m-manylinux_2_12_x86_64.manylinux2010_x86_64.whl (48.4 MB)\n",
            "\u001b[K     |████████████████████████████████| 48.4 MB 2.2 MB/s \n",
            "\u001b[?25hInstalling collected packages: SimpleITK\n",
            "Successfully installed SimpleITK-2.1.1.2\n"
          ]
        }
      ]
    },
    {
      "cell_type": "markdown",
      "metadata": {
        "id": "AlKvuNaj3c1r"
      },
      "source": [
        "### 기본 문법\n",
        "    - 변수 선언, 식별자, 자료형, 형변환, 연산자"
      ]
    },
    {
      "cell_type": "markdown",
      "metadata": {
        "id": "CepK2i4j3c1s"
      },
      "source": [
        "#### 주석과 출력\n",
        "    - 주석 : 작성한 문장 맨 앞에 #을 붙이면 주석처리\n",
        "    - 출력 : 셀의 마지막 문장 하나만 결과로 출력\n",
        "            여러 결과나 코드 중간 변수 값을 출력하고 싶을때 print(출력물)로 작성"
      ]
    },
    {
      "cell_type": "code",
      "execution_count": 3,
      "metadata": {
        "ExecuteTime": {
          "end_time": "2021-01-13T05:23:00.360571Z",
          "start_time": "2021-01-13T05:23:00.351594Z"
        },
        "colab": {
          "base_uri": "https://localhost:8080/",
          "height": 73
        },
        "id": "vMNbTUlH3c1s",
        "outputId": "14a79621-b4d4-4aed-8490-44a7e03e8a30"
      },
      "outputs": [
        {
          "output_type": "stream",
          "name": "stdout",
          "text": [
            "Hello Python\n",
            "안녕하세요\n"
          ]
        },
        {
          "output_type": "execute_result",
          "data": {
            "text/plain": [
              "'\\n여러줄의 주석은 세번쓰기\\n코드에 전혀 영향을 주지 않는다\\n'"
            ],
            "application/vnd.google.colaboratory.intrinsic+json": {
              "type": "string"
            }
          },
          "metadata": {},
          "execution_count": 3
        }
      ],
      "source": [
        "print('Hello Python')\n",
        "# print('안녕 파이썬')\n",
        "print('안녕하세요')\n",
        "\n",
        "\"\"\"\n",
        "여러줄의 주석은 세번쓰기\n",
        "코드에 전혀 영향을 주지 않는다\n",
        "\"\"\""
      ]
    },
    {
      "cell_type": "code",
      "source": [
        "\"\"\"이 안에 설명을 쓰시면 됩니다.\"\"\""
      ],
      "metadata": {
        "id": "Qah6--noerY5"
      },
      "execution_count": null,
      "outputs": []
    },
    {
      "cell_type": "code",
      "execution_count": 6,
      "metadata": {
        "ExecuteTime": {
          "end_time": "2021-01-13T05:23:26.128303Z",
          "start_time": "2021-01-13T05:23:26.117310Z"
        },
        "id": "pXpoB85s3c1t",
        "outputId": "60e33f71-c210-41a1-95bf-145a2a2a01d3",
        "colab": {
          "base_uri": "https://localhost:8080/"
        }
      },
      "outputs": [
        {
          "output_type": "stream",
          "name": "stdout",
          "text": [
            "안녕하세요\n",
            "안녕하세요\n",
            "안녕하세요\n",
            "안녕하세요\n",
            "안녕하세요\n",
            "안녕하세요\n",
            "안녕하세요\n",
            "안녕하세요\n",
            "안녕하세요\n",
            "안녕하세요\n"
          ]
        }
      ],
      "source": [
        "for i in range(1,11):\n",
        "    print('안녕하세요')"
      ]
    },
    {
      "cell_type": "markdown",
      "source": [
        " - 파이썬 수는 0 부터 시작합니다."
      ],
      "metadata": {
        "id": "gjeS6kDB8-r8"
      }
    },
    {
      "cell_type": "markdown",
      "metadata": {
        "id": "9n4WjlYt3c1u"
      },
      "source": [
        "    - docstring : 함수의 사용법을 설명 (단축키: shift+tab)\n",
        "    - 자동완성 : 코드의 일부분만 작성하고 뒷부분을 자동으로 채워주는 기능 (단축키: tab)"
      ]
    },
    {
      "cell_type": "code",
      "source": [
        "import random # random 라이브러리를 불러오는 것\n",
        "random.randint\n",
        "random.random"
      ],
      "metadata": {
        "colab": {
          "base_uri": "https://localhost:8080/"
        },
        "id": "HpnECI5SgEg9",
        "outputId": "86473b64-291e-4d6f-c591-1b81958a5398"
      },
      "execution_count": 7,
      "outputs": [
        {
          "output_type": "execute_result",
          "data": {
            "text/plain": [
              "<function Random.random>"
            ]
          },
          "metadata": {},
          "execution_count": 7
        }
      ]
    },
    {
      "cell_type": "markdown",
      "metadata": {
        "id": "lDIkz_It3c1u"
      },
      "source": [
        "#### 변수 선언\n",
        "    RAM 저장 공간에 값을 할당하는 행위"
      ]
    },
    {
      "cell_type": "code",
      "execution_count": 8,
      "metadata": {
        "ExecuteTime": {
          "end_time": "2021-01-13T05:01:11.280066Z",
          "start_time": "2021-01-13T05:01:11.258127Z"
        },
        "id": "W-WIaFhE3c1u",
        "outputId": "8fbb718b-04fc-47fa-b210-f1cb89f6ef7e",
        "colab": {
          "base_uri": "https://localhost:8080/"
        }
      },
      "outputs": [
        {
          "output_type": "stream",
          "name": "stdout",
          "text": [
            "3\n"
          ]
        }
      ],
      "source": [
        "a = 1\n",
        "b = 2\n",
        "c = a + b\n",
        "print(c)"
      ]
    },
    {
      "cell_type": "code",
      "execution_count": 10,
      "metadata": {
        "ExecuteTime": {
          "end_time": "2021-01-13T05:01:28.069703Z",
          "start_time": "2021-01-13T05:01:28.057737Z"
        },
        "id": "UO_qTpvJ3c1v",
        "outputId": "2c2bc1f6-fccc-44a5-ed64-328e5bb86279",
        "colab": {
          "base_uri": "https://localhost:8080/"
        }
      },
      "outputs": [
        {
          "output_type": "stream",
          "name": "stdout",
          "text": [
            "3 4 5 5\n"
          ]
        }
      ],
      "source": [
        "d, e = 3, 4\n",
        "f = g = 5\n",
        "print(d, e, f, g)"
      ]
    },
    {
      "cell_type": "code",
      "source": [
        "g = h = 70\n",
        "g, h"
      ],
      "metadata": {
        "id": "RtKHgL_YgTFt"
      },
      "execution_count": null,
      "outputs": []
    },
    {
      "cell_type": "code",
      "source": [
        "import numpy as np # numpy 라이브러리를 불러옴\n",
        "a = np.random.randint(0,10,(10,10)) # 행렬의 크기가 10x10이고 값들은 0부터 9까지\n",
        "\n",
        "b = np.random.randint(11,20,(10,10)) \n",
        "print(a, \"\\n\",b,\"\\n\", a+b)"
      ],
      "metadata": {
        "colab": {
          "base_uri": "https://localhost:8080/"
        },
        "id": "8p6Uk07j9fms",
        "outputId": "65c002f1-9fbd-4b29-f384-bc3a206202cd"
      },
      "execution_count": 13,
      "outputs": [
        {
          "output_type": "stream",
          "name": "stdout",
          "text": [
            "[[4 2 8 7 6 6 5 6 5 6]\n",
            " [1 6 4 5 7 6 0 8 5 1]\n",
            " [2 1 8 5 4 1 5 9 3 7]\n",
            " [7 4 0 3 6 7 3 9 9 6]\n",
            " [2 0 7 6 3 8 9 8 0 4]\n",
            " [6 3 5 4 5 7 6 6 3 7]\n",
            " [7 5 6 5 5 9 1 6 3 4]\n",
            " [0 0 8 0 8 1 7 1 8 5]\n",
            " [6 4 2 1 9 7 6 6 5 3]\n",
            " [0 3 8 8 9 6 0 4 2 2]] \n",
            " [[11 18 11 17 15 12 19 19 13 17]\n",
            " [15 15 13 19 18 19 15 14 15 12]\n",
            " [15 19 17 11 16 12 17 11 17 13]\n",
            " [12 18 13 12 15 16 11 16 11 19]\n",
            " [13 16 19 12 15 18 17 16 19 18]\n",
            " [19 19 17 19 13 18 15 15 12 13]\n",
            " [16 11 12 18 15 19 13 14 11 18]\n",
            " [19 15 18 17 13 15 17 12 14 19]\n",
            " [13 16 14 15 16 16 17 15 12 18]\n",
            " [14 19 15 12 16 11 13 11 18 17]] \n",
            " [[15 20 19 24 21 18 24 25 18 23]\n",
            " [16 21 17 24 25 25 15 22 20 13]\n",
            " [17 20 25 16 20 13 22 20 20 20]\n",
            " [19 22 13 15 21 23 14 25 20 25]\n",
            " [15 16 26 18 18 26 26 24 19 22]\n",
            " [25 22 22 23 18 25 21 21 15 20]\n",
            " [23 16 18 23 20 28 14 20 14 22]\n",
            " [19 15 26 17 21 16 24 13 22 24]\n",
            " [19 20 16 16 25 23 23 21 17 21]\n",
            " [14 22 23 20 25 17 13 15 20 19]]\n"
          ]
        }
      ]
    },
    {
      "cell_type": "markdown",
      "metadata": {
        "id": "FExAeAmv3c1v"
      },
      "source": [
        "#### 식별자\n",
        "    - 변수, 함수, 클래스, 모듈 등의 이름\n",
        "    - 규칙\n",
        "        - 소문자, 대문자, 숫자, _ (low dash / under_score)\n",
        "        - 가장 앞에 숫자 사용 불가\n",
        "        - 예약어 사용 불가 (def, class, int, ...) : 이미 python에서 문법적으로 정의되어 있는 식별자\n",
        "        - Convention\n",
        "            - snake_case : 변수, 함수\n",
        "            - CamelCase : class"
      ]
    },
    {
      "cell_type": "code",
      "execution_count": 14,
      "metadata": {
        "ExecuteTime": {
          "end_time": "2021-01-13T05:18:53.302201Z",
          "start_time": "2021-01-13T05:18:53.298226Z"
        },
        "id": "FTsXUbbN3c1v",
        "outputId": "39c25dca-2052-4316-e19d-ffe0ba45e75e",
        "colab": {
          "base_uri": "https://localhost:8080/"
        }
      },
      "outputs": [
        {
          "output_type": "stream",
          "name": "stdout",
          "text": [
            "['False', 'None', 'True', 'and', 'as', 'assert', 'async', 'await', 'break', 'class', 'continue', 'def', 'del', 'elif', 'else', 'except', 'finally', 'for', 'from', 'global', 'if', 'import', 'in', 'is', 'lambda', 'nonlocal', 'not', 'or', 'pass', 'raise', 'return', 'try', 'while', 'with', 'yield']\n"
          ]
        }
      ],
      "source": [
        "import keyword\n",
        "print(keyword.kwlist) "
      ]
    },
    {
      "cell_type": "markdown",
      "metadata": {
        "id": "qfixUZ1O3c1v"
      },
      "source": [
        "#### 데이터 타입\n",
        "    - RAM 저장 공간을 효율적으로 사용하기 위해서 저장 공간의 타입 설정\n",
        "    - 동적 타이핑\n",
        "        - 변수 선언 시 저장되는 값에 따라서 자동으로 타입이 설정"
      ]
    },
    {
      "cell_type": "code",
      "execution_count": 17,
      "metadata": {
        "ExecuteTime": {
          "end_time": "2021-01-13T05:06:12.191402Z",
          "start_time": "2021-01-13T05:06:12.184422Z"
        },
        "colab": {
          "base_uri": "https://localhost:8080/"
        },
        "id": "FHhw_FRO3c1w",
        "outputId": "7dc2886d-f541-4268-e818-8437a55c40fa"
      },
      "outputs": [
        {
          "output_type": "stream",
          "name": "stdout",
          "text": [
            "Interactive namespace is empty.\n"
          ]
        }
      ],
      "source": [
        "%whos"
      ]
    },
    {
      "cell_type": "code",
      "execution_count": 16,
      "metadata": {
        "ExecuteTime": {
          "end_time": "2021-01-13T05:06:20.179281Z",
          "start_time": "2021-01-13T05:06:18.648475Z"
        },
        "colab": {
          "base_uri": "https://localhost:8080/"
        },
        "id": "6nkuMreZ3c1w",
        "outputId": "c6c2b085-5ede-4d58-fbfa-7dd18c216ed9"
      },
      "outputs": [
        {
          "name": "stdout",
          "output_type": "stream",
          "text": [
            "Once deleted, variables cannot be recovered. Proceed (y/[n])? y\n"
          ]
        }
      ],
      "source": [
        "%reset"
      ]
    },
    {
      "cell_type": "code",
      "execution_count": null,
      "metadata": {
        "ExecuteTime": {
          "end_time": "2021-01-13T05:06:24.670892Z",
          "start_time": "2021-01-13T05:06:24.658896Z"
        },
        "colab": {
          "base_uri": "https://localhost:8080/"
        },
        "id": "T-DfM-PU3c1w",
        "outputId": "5e4d0628-5ec7-44c9-cee4-7a540e67bc74"
      },
      "outputs": [
        {
          "output_type": "stream",
          "name": "stdout",
          "text": [
            "Interactive namespace is empty.\n"
          ]
        }
      ],
      "source": [
        "%whos"
      ]
    },
    {
      "cell_type": "code",
      "execution_count": 19,
      "metadata": {
        "ExecuteTime": {
          "end_time": "2021-01-13T05:06:46.135449Z",
          "start_time": "2021-01-13T05:06:46.115501Z"
        },
        "id": "olFLXOUB3c1w",
        "outputId": "aac6f21b-f803-485d-8d46-fe8522b5d32e",
        "colab": {
          "base_uri": "https://localhost:8080/"
        }
      },
      "outputs": [
        {
          "output_type": "execute_result",
          "data": {
            "text/plain": [
              "(int, str, float)"
            ]
          },
          "metadata": {},
          "execution_count": 19
        }
      ],
      "source": [
        "a = 1\n",
        "b = 'python'\n",
        "c = 1.0\n",
        "type(a), type(b), type(c)"
      ]
    },
    {
      "cell_type": "code",
      "execution_count": null,
      "metadata": {
        "ExecuteTime": {
          "end_time": "2021-01-13T05:21:24.057995Z",
          "start_time": "2021-01-13T05:21:24.041072Z"
        },
        "id": "qq5mWDeE3c1x",
        "outputId": "695d35d7-e456-482c-bb1f-672119d0e326"
      },
      "outputs": [
        {
          "name": "stdout",
          "output_type": "stream",
          "text": [
            "The Zen of Python, by Tim Peters\n",
            "\n",
            "Beautiful is better than ugly.\n",
            "Explicit is better than implicit.\n",
            "Simple is better than complex.\n",
            "Complex is better than complicated.\n",
            "Flat is better than nested.\n",
            "Sparse is better than dense.\n",
            "Readability counts.\n",
            "Special cases aren't special enough to break the rules.\n",
            "Although practicality beats purity.\n",
            "Errors should never pass silently.\n",
            "Unless explicitly silenced.\n",
            "In the face of ambiguity, refuse the temptation to guess.\n",
            "There should be one-- and preferably only one --obvious way to do it.\n",
            "Although that way may not be obvious at first unless you're Dutch.\n",
            "Now is better than never.\n",
            "Although never is often better than *right* now.\n",
            "If the implementation is hard to explain, it's a bad idea.\n",
            "If the implementation is easy to explain, it may be a good idea.\n",
            "Namespaces are one honking great idea -- let's do more of those!\n"
          ]
        }
      ],
      "source": [
        "# 심플한 파이선의 철학\n",
        "import this"
      ]
    }
  ],
  "metadata": {
    "hide_input": false,
    "kernelspec": {
      "display_name": "Python 3",
      "language": "python",
      "name": "python3"
    },
    "language_info": {
      "codemirror_mode": {
        "name": "ipython",
        "version": 3
      },
      "file_extension": ".py",
      "mimetype": "text/x-python",
      "name": "python",
      "nbconvert_exporter": "python",
      "pygments_lexer": "ipython3",
      "version": "3.8.5"
    },
    "toc": {
      "base_numbering": 1,
      "nav_menu": {},
      "number_sections": true,
      "sideBar": true,
      "skip_h1_title": false,
      "title_cell": "Table of Contents",
      "title_sidebar": "Contents",
      "toc_cell": false,
      "toc_position": {},
      "toc_section_display": true,
      "toc_window_display": false
    },
    "varInspector": {
      "cols": {
        "lenName": 16,
        "lenType": 16,
        "lenVar": 40
      },
      "kernels_config": {
        "python": {
          "delete_cmd_postfix": "",
          "delete_cmd_prefix": "del ",
          "library": "var_list.py",
          "varRefreshCmd": "print(var_dic_list())"
        },
        "r": {
          "delete_cmd_postfix": ") ",
          "delete_cmd_prefix": "rm(",
          "library": "var_list.r",
          "varRefreshCmd": "cat(var_dic_list()) "
        }
      },
      "types_to_exclude": [
        "module",
        "function",
        "builtin_function_or_method",
        "instance",
        "_Feature"
      ],
      "window_display": false
    },
    "colab": {
      "name": "Class prep. # 01. python basic - print, docstring, auto intent etc..ipynb",
      "provenance": [],
      "collapsed_sections": [],
      "include_colab_link": true
    }
  },
  "nbformat": 4,
  "nbformat_minor": 0
}